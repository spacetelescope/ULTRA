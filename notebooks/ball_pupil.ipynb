{
 "cells": [
  {
   "cell_type": "code",
   "execution_count": null,
   "id": "571b40ea",
   "metadata": {},
   "outputs": [],
   "source": [
    "import matplotlib.pyplot as plt\n",
    "from matplotlib.colors import LogNorm, TwoSlopeNorm\n",
    "import numpy as np\n",
    "import os\n",
    "\n",
    "from scipy.interpolate import RectBivariateSpline\n",
    "\n",
    "import hcipy\n",
    "import astropy.io.fits as fits\n",
    "\n",
    "from pastis.simulators.scda_telescopes import HexRingAPLC\n",
    "import pastis.util as util\n",
    "from pastis.config import CONFIG_PASTIS"
   ]
  },
  {
   "cell_type": "code",
   "execution_count": null,
   "id": "8a6d2293",
   "metadata": {},
   "outputs": [],
   "source": [
    "def resize_img(img, resize_factor, kx=3, ky=3):\n",
    "        \"\"\"Resizes an image to fit the target dimensions (typically the shape of another image) \n",
    "        using rectangular bivariate spline interpolation.\n",
    "        \n",
    "        Adapted from \n",
    "        https://github.com/spacetelescope/hicat-package2/blob/develop\n",
    "        /hicat2/experiments/calibration/measure_ncpa.py\n",
    "        \n",
    "\n",
    "        :param img: (2d array) input image to be resized\n",
    "        :param resize_factor: (float) scaling factor by which to resize image\n",
    "        :param kx: (int) degree of the bivariate spline in x\n",
    "        :param ky: (int) degree of the bivariate spline in y\n",
    "        :output: (2d array) resized image\n",
    "        \"\"\"\n",
    "        spline_interp = RectBivariateSpline(np.arange(img.shape[1]) * resize_factor, np.arange(img.shape[0]) * resize_factor, img, kx=kx, ky=ky)\n",
    "        resized_img = spline_interp(np.arange(int(img.shape[1] * resize_factor)), np.arange(int(img.shape[0] * resize_factor)))\n",
    "\n",
    "        return resized_img"
   ]
  },
  {
   "cell_type": "code",
   "execution_count": null,
   "id": "07053e22",
   "metadata": {},
   "outputs": [],
   "source": [
    "ball_pupil = fits.getdata(\"/Users/asahoo/Downloads/Sample_Pupil.fits\")\n",
    "print(\"Shape of ball_pupil:\", ball_pupil.shape)\n",
    "\n",
    "plt.imshow(ball_pupil)\n",
    "plt.colorbar()"
   ]
  },
  {
   "cell_type": "code",
   "execution_count": null,
   "id": "22080502",
   "metadata": {},
   "outputs": [],
   "source": [
    "optics_dir = os.path.join(util.find_repo_location(), 'data', 'SCDA')\n",
    "NUM_RINGS = 2\n",
    "sampling = 4\n",
    "\n",
    "tel = HexRingAPLC(optics_dir, NUM_RINGS, sampling)\n",
    "\n",
    "unaberrated_psf, ref, intermediates = tel.calc_psf(ref=True, display_intermediate=False, \n",
    "                                  return_intermediate='intensity',\n",
    "                                  norm_one_photon=True)\n",
    "\n",
    "norm = np.max(ref)\n",
    "normalized_unaberrated_psf = unaberrated_psf / norm\n",
    "\n",
    "unaberr_roi = normalized_unaberrated_psf * tel.dh_mask\n",
    "contrast_floor = np.mean(unaberr_roi[np.where(tel.dh_mask != 0)])\n",
    "print(\"contrast_floor:\", contrast_floor)"
   ]
  },
  {
   "cell_type": "code",
   "execution_count": null,
   "id": "03c5422a",
   "metadata": {
    "scrolled": false
   },
   "outputs": [],
   "source": [
    "plt.figure(figsize=(10, 4))\n",
    "plt.subplot(1, 2, 1)\n",
    "hcipy.imshow_field(np.log10((unaberrated_psf)))\n",
    "plt.colorbar()\n",
    "\n",
    "plt.subplot(1, 2, 2)\n",
    "hcipy.imshow_field(np.log10((ref)))\n",
    "plt.colorbar()"
   ]
  },
  {
   "cell_type": "code",
   "execution_count": null,
   "id": "b3d6d36f",
   "metadata": {},
   "outputs": [],
   "source": [
    "hcipy.imshow_field(tel.aperture)\n",
    "plt.colorbar()"
   ]
  },
  {
   "cell_type": "code",
   "execution_count": null,
   "id": "39ce48c5",
   "metadata": {},
   "outputs": [],
   "source": [
    "size = int(np.sqrt(len(tel.aperture)))\n",
    "hex2_aperture = np.reshape(tel.aperture, (size, size))"
   ]
  },
  {
   "cell_type": "code",
   "execution_count": null,
   "id": "df8cf647",
   "metadata": {},
   "outputs": [],
   "source": [
    "# Zero padding all nan \n",
    "ball_pupil = np.nan_to_num(ball_pupil)\n",
    "plt.imshow(ball_pupil)\n",
    "plt.colorbar()"
   ]
  },
  {
   "cell_type": "code",
   "execution_count": null,
   "id": "88eed683",
   "metadata": {},
   "outputs": [],
   "source": [
    "#Enlarging the pupil provided by Ball to 1024*1024\n",
    "\n",
    "scale = size/(ball_pupil.shape[0])\n",
    "ball_pupil_resized = resize_img(ball_pupil, scale, kx=3, ky=3)\n",
    "\n",
    "print(\"New size of the pupil:\",ball_pupil_resized.shape)"
   ]
  },
  {
   "cell_type": "code",
   "execution_count": null,
   "id": "d709415c",
   "metadata": {},
   "outputs": [],
   "source": [
    "# plot to check how good they are overlapping with each other\n",
    "\n",
    "plt.imshow(1e6*hex2_aperture -  ball_pupil_resized) \n",
    "plt.colorbar()"
   ]
  },
  {
   "cell_type": "code",
   "execution_count": null,
   "id": "6d46cd59",
   "metadata": {},
   "outputs": [],
   "source": [
    "pupil_field = tel.wf_aper.electric_field"
   ]
  },
  {
   "cell_type": "code",
   "execution_count": null,
   "id": "c5af889f",
   "metadata": {},
   "outputs": [],
   "source": [
    "plt.figure()\n",
    "plt.subplot(1,2,1)\n",
    "plt.title(\"Amplitude\")\n",
    "hcipy.imshow_field(pupil_field.real)\n",
    "\n",
    "plt.subplot(1,2,2)\n",
    "plt.title(\"Phase\")\n",
    "hcipy.imshow_field(pupil_field.imag)"
   ]
  },
  {
   "cell_type": "code",
   "execution_count": null,
   "id": "2cbed9c4",
   "metadata": {},
   "outputs": [],
   "source": [
    "#Initialize the pupil phase with the OPD from Ball/\n",
    "\n",
    "ball_pupil_1d = np.reshape(ball_pupil_resized, size**2)\n",
    "ball_pupil_field = hcipy.field.Field(ball_pupil_1d, pupil_field.imag.grid)\n",
    "\n",
    "#pupil_field.imag = hcipy.field.Field(ball_pupil_resized, pupil_field.imag.grid)"
   ]
  },
  {
   "cell_type": "code",
   "execution_count": null,
   "id": "91eef333",
   "metadata": {},
   "outputs": [],
   "source": [
    "plt.figure(figsize=(10,5))\n",
    "\n",
    "plt.subplot(1,2,1)\n",
    "hcipy.imshow_field(ball_pupil_field)\n",
    "plt.colorbar()\n",
    "\n",
    "plt.subplot(1,2,2)\n",
    "plt.imshow(ball_pupil_resized, origin='lower')\n",
    "plt.colorbar()"
   ]
  },
  {
   "cell_type": "code",
   "execution_count": null,
   "id": "539cc0f0",
   "metadata": {},
   "outputs": [],
   "source": [
    "#check whether the elements are not flipped. \n",
    "\n",
    "ball_pupil_field_2d = np.reshape(ball_pupil_field, (size, size))\n",
    "print(ball_pupil_field_2d[13, 13], ball_pupil_resized[13, 13])"
   ]
  },
  {
   "cell_type": "code",
   "execution_count": null,
   "id": "73fe9d75",
   "metadata": {
    "scrolled": false
   },
   "outputs": [],
   "source": [
    "for i in range(0, len(ball_pupil_field)):\n",
    "    if np.abs(ball_pupil_field[i]) <= 1e-1:\n",
    "        ball_pupil_field[i] = 0.0\n",
    "        \n",
    "\n",
    "plt.imshow(ball_pupil_resized)\n",
    "plt.colorbar()\n",
    "fits.writeto('/Users/asahoo/Downloads/Sample_Pupil_resized2.fits', ball_pupil_resized)"
   ]
  },
  {
   "cell_type": "code",
   "execution_count": null,
   "id": "13940fe2",
   "metadata": {},
   "outputs": [],
   "source": [
    "print()"
   ]
  },
  {
   "cell_type": "code",
   "execution_count": null,
   "id": "1beef026",
   "metadata": {},
   "outputs": [],
   "source": [
    "len(ball_pupil_field)"
   ]
  },
  {
   "cell_type": "code",
   "execution_count": null,
   "id": "bba5c2ce",
   "metadata": {},
   "outputs": [],
   "source": [
    "magnitude = 1e-3\n",
    "tel.wf_aper.electric_field.imag = magnitude * ball_pupil_field"
   ]
  },
  {
   "cell_type": "code",
   "execution_count": null,
   "id": "fc370793",
   "metadata": {},
   "outputs": [],
   "source": [
    "hcipy.imshow_field(tel.wf_aper.electric_field.imag)\n",
    "plt.colorbar()"
   ]
  },
  {
   "cell_type": "code",
   "execution_count": null,
   "id": "7af4eade",
   "metadata": {
    "scrolled": false
   },
   "outputs": [],
   "source": [
    "psf_aber, intermediates_aber = tel.calc_psf(display_intermediate=False, \n",
    "                                  return_intermediate='intensity',\n",
    "                                  norm_one_photon=True)"
   ]
  },
  {
   "cell_type": "code",
   "execution_count": null,
   "id": "20ffb1aa",
   "metadata": {
    "scrolled": false
   },
   "outputs": [],
   "source": [
    "fpm_mask = np.zeros(len(intermediates_aber['after_fpm']))\n",
    "\n",
    "for i in range(0, len(intermediates_aber['after_fpm'])):\n",
    "    if intermediates['after_fpm'][i] == 0.0:\n",
    "        fpm_mask[i] = 0\n",
    "    else:\n",
    "        fpm_mask[i] = 1\n",
    "        \n",
    "plt.figure(figsize = (10, 5))\n",
    "\n",
    "# Entrance Pupil\n",
    "plt.subplot(2, 3, 1)\n",
    "plt.title(\"Phase\")\n",
    "hcipy.imshow_field(tel.wf_aper.electric_field.imag, mask = tel.aperture, cmap='inferno')\n",
    "plt.tick_params(bottom=False, left=False, labelleft=False, labelbottom=False)\n",
    "plt.colorbar()\n",
    "\n",
    "\n",
    "# before FPM\n",
    "plt.subplot(2, 3, 2)\n",
    "plt.title(\"before fpm\")\n",
    "hcipy.imshow_field(intermediates_aber['before_fpm'], \n",
    "                   norm=LogNorm(vmin=1e-8, vmax=1e-1), cmap='inferno')\n",
    "plt.tick_params(bottom=False, left=False, labelleft=False, labelbottom=False)\n",
    "plt.colorbar()\n",
    "\n",
    "# after FPM, note: calc_psf returns int_after_fpm in log scale.\n",
    "plt.subplot(2, 3, 3)\n",
    "plt.title(\"after fpm\")\n",
    "hcipy.imshow_field(10**(intermediates_aber['after_fpm']), \n",
    "                   norm=LogNorm(vmin=1e-8, vmax=1e-1),mask = fpm_mask,cmap= 'inferno')\n",
    "plt.tick_params(bottom=False, left=False, labelleft=False, labelbottom=False)\n",
    "plt.colorbar()\n",
    "\n",
    "\n",
    "# before Lyot Stop\n",
    "plt.subplot(2, 3, 4)\n",
    "plt.title(\"before lyot\")\n",
    "hcipy.imshow_field(intermediates_aber['before_lyot'], norm=LogNorm(vmin=1e-3, vmax=1), \n",
    "                   cmap='inferno')\n",
    "plt.tick_params(bottom=False, left=False, labelleft=False, labelbottom=False)\n",
    "plt.colorbar()\n",
    "\n",
    "# after Lyot Stop\n",
    "plt.subplot(2, 3, 5)\n",
    "plt.title(\"after lyot\")\n",
    "hcipy.imshow_field(intermediates_aber['after_lyot'], mask=tel.lyotstop, norm=LogNorm(vmin=1e-3, vmax=1),\n",
    "                   cmap='inferno')\n",
    "plt.tick_params(bottom=False, left=False, labelleft=False, labelbottom=False)\n",
    "plt.colorbar()\n",
    "\n",
    "# final PSF\n",
    "plt.subplot(2, 3, 6)\n",
    "plt.title(\"aberrated PSF\")\n",
    "hcipy.imshow_field(psf_aber, norm=LogNorm(vmin=1e-14, vmax=1e-3), cmap='inferno')\n",
    "plt.tick_params(bottom=False, left=False, labelleft=False, labelbottom=False)\n",
    "plt.colorbar()\n",
    "\n",
    "plt.tight_layout()\n",
    "#plt.savefig(os.path.join(resDir, f'optical_train_{NUM_RINGS}_rings.png'))"
   ]
  },
  {
   "cell_type": "code",
   "execution_count": null,
   "id": "f956b44e",
   "metadata": {},
   "outputs": [],
   "source": [
    "normalized_aberrated_psf = psf_aber / norm\n",
    "\n",
    "roi_aber = normalized_aberrated_psf * tel.dh_mask\n",
    "contrast_aber = np.mean(roi_aber[np.where(tel.dh_mask != 0)])\n",
    "print(contrast_aber)"
   ]
  },
  {
   "cell_type": "code",
   "execution_count": null,
   "id": "a2b3f983",
   "metadata": {},
   "outputs": [],
   "source": []
  }
 ],
 "metadata": {
  "kernelspec": {
   "display_name": "Python 3 (ipykernel)",
   "language": "python",
   "name": "python3"
  },
  "language_info": {
   "codemirror_mode": {
    "name": "ipython",
    "version": 3
   },
   "file_extension": ".py",
   "mimetype": "text/x-python",
   "name": "python",
   "nbconvert_exporter": "python",
   "pygments_lexer": "ipython3",
   "version": "3.10.8"
  }
 },
 "nbformat": 4,
 "nbformat_minor": 5
}
