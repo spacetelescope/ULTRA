{
 "cells": [
  {
   "cell_type": "code",
   "execution_count": null,
   "id": "5aa116e6",
   "metadata": {},
   "outputs": [],
   "source": [
    "import numpy as np\n",
    "import os\n",
    "import matplotlib.pyplot as plt\n",
    "\n",
    "from astropy.io import fits\n",
    "import numpy as np\n",
    "import hcipy\n",
    "import scipy.io # used for importing .mat files\n",
    "\n",
    "import pastis.util as util\n",
    "from pastis.config import CONFIG_PASTIS\n",
    "from pastis.simulators.scda_telescopes import HexRingAPLC\n",
    "\n",
    "os.chdir('../ULTRA')\n",
    "from config import CONFIG_ULTRA"
   ]
  },
  {
   "cell_type": "code",
   "execution_count": null,
   "id": "05d09da3",
   "metadata": {},
   "outputs": [],
   "source": [
    "data_path = CONFIG_ULTRA.get('local_path', 'local_data_path')\n",
    "analysis_path = CONFIG_ULTRA.get('local_path', 'local_analysis_path')"
   ]
  },
  {
   "cell_type": "markdown",
   "id": "8b8d9e2c",
   "metadata": {},
   "source": [
    "#### Get open loop and close loop time series data. "
   ]
  },
  {
   "cell_type": "code",
   "execution_count": null,
   "id": "5dda4c59",
   "metadata": {},
   "outputs": [],
   "source": [
    "open_loop = np.genfromtxt(os.path.join(data_path,'INPUT_MISALIGNMENTS.txt'),  delimiter=';')\n",
    "close_loop = np.genfromtxt(os.path.join(data_path,'RESIDUAL_MISALIGNMENTS.txt'),  delimiter=';')\n",
    "\n",
    "print(\"open-loop data shape:\", open_loop.shape)\n",
    "print(\"close-loop data shape:\", open_loop.shape)"
   ]
  },
  {
   "cell_type": "markdown",
   "id": "75e81f8e",
   "metadata": {},
   "source": [
    "#### Set the type of data you want to analyze, i.e. whether open loop or close loop. "
   ]
  },
  {
   "cell_type": "code",
   "execution_count": null,
   "id": "d0e802f6",
   "metadata": {},
   "outputs": [],
   "source": [
    "time_series = open_loop"
   ]
  },
  {
   "cell_type": "markdown",
   "id": "3e5dd9b0",
   "metadata": {},
   "source": [
    "#### Get pre-saved OPDs corresponding to 1 micron dx, dy, dz, rdx, rdy, rdz "
   ]
  },
  {
   "cell_type": "code",
   "execution_count": null,
   "id": "c98e1081",
   "metadata": {},
   "outputs": [],
   "source": [
    "tel2_actuators = 0.5 * fits.getdata(os.path.join(analysis_path, 'optical_sensitvity.fits'))"
   ]
  },
  {
   "cell_type": "markdown",
   "id": "171b10da",
   "metadata": {},
   "source": [
    "Note: I'm multiplying here 0.5 to convert to surface units. "
   ]
  },
  {
   "cell_type": "markdown",
   "id": "6f2a3742",
   "metadata": {},
   "source": [
    "####  Instantiate the 2Hex SCDA Simulator"
   ]
  },
  {
   "cell_type": "code",
   "execution_count": null,
   "id": "75a7b4c1",
   "metadata": {
    "scrolled": false
   },
   "outputs": [],
   "source": [
    "optics_dir = os.path.join(util.find_repo_location(), 'data', 'SCDA')\n",
    "NUM_RINGS = 2\n",
    "sampling = 4\n",
    "\n",
    "tel2 = HexRingAPLC(optics_dir, NUM_RINGS, sampling)\n",
    "\n",
    "# Set the total number of hexike polynomials you want over the hexagonal segment.\n",
    "n_zernikes = 11\n",
    "tel2.create_segmented_mirror(n_zernikes)\n",
    "\n",
    "unaberrated_psf, ref, intermediates = tel2.calc_psf(ref=True, display_intermediate=True, \n",
    "                                  return_intermediate='intensity',\n",
    "                                  norm_one_photon=True)\n",
    "\n",
    "norm = np.max(ref)\n",
    "normalized_unaberrated_psf = unaberrated_psf / norm\n",
    "\n",
    "unaberr_roi = normalized_unaberrated_psf * tel2.dh_mask\n",
    "contrast_floor = np.mean(unaberr_roi[np.where(tel2.dh_mask != 0)])\n",
    "\n",
    "\n",
    "print(\"contrast_floor:\", contrast_floor)\n",
    "print(\"Wavelength:\", tel2.wvln)"
   ]
  },
  {
   "cell_type": "markdown",
   "id": "739cd90d",
   "metadata": {},
   "source": [
    "#### Map HWO segment number to the SCDA segment number:"
   ]
  },
  {
   "cell_type": "code",
   "execution_count": null,
   "id": "5afb3b6b",
   "metadata": {},
   "outputs": [],
   "source": [
    "hwo_to_scda = {\"1\": 4, \"2\": 5, \"3\": 6, \"4\":7, \"5\":2, \"6\":3, \"7\":12, \"8\":13, \"9\":14, \"10\":15,\n",
    "               \"11\": 16, \"12\":17, \"13\":18, \"14\":19, \"15\":8, \"16\":9, \"17\":10, \"18\":11, \"19\":1}\n",
    "\n",
    "hwo_scda_segments = np.array([4, 5, 6, 7, 2, 3, 12, 13, 14, 15, 16, 17, 18, 19, 8, 9, 10, 11, 1])"
   ]
  },
  {
   "cell_type": "markdown",
   "id": "04eef1fe",
   "metadata": {},
   "source": [
    "#### Load coefficients from .mat file"
   ]
  },
  {
   "cell_type": "code",
   "execution_count": null,
   "id": "b080c72b",
   "metadata": {},
   "outputs": [],
   "source": [
    "hwo_sensitivities = scipy.io.loadmat(os.path.join(data_path, 'HWO_sens_old.mat'))\n",
    "hwo_table = hwo_sensitivities['HWO_sens']\n",
    "first_element = hwo_table[0,0]\n",
    "data_list = first_element.tolist()  # tuple of length 4\n",
    "\n",
    "hwo_hexike_coeffs = data_list[0]  # ndarray of shape (11, 19, 6)\n",
    "mask = data_list[1]    # ndarray of shape (256, 256, 19, 6)\n",
    "dopd = data_list[2]    # ndarray of shape (256, 256, 19, 6)\n",
    "units = data_list[3]   # ndarray of shape (1,) where the only element is a string"
   ]
  },
  {
   "cell_type": "markdown",
   "id": "eb128f54",
   "metadata": {},
   "source": [
    "#### Plot OPDs corresponding to PTT via SCDA simulator.\n",
    "The following plot including colorbars, and RMS should closely match to OPDs pictures from Garrett for the case of PTT, If not matching, there might be some error in sorting the segment number or Zernike coefficients. Simulator uses Noll Convention. "
   ]
  },
  {
   "cell_type": "code",
   "execution_count": null,
   "id": "cce7ff85",
   "metadata": {
    "scrolled": false
   },
   "outputs": [],
   "source": [
    "titles = np.array([\"X nm RMS/um\", \"Y nm RMS/um\", \"Z nm RMS/um\", \n",
    "                  \"Rx nm RMS/urad\", \"Ry nm RMS/urad\", \"Rz nm RMS/urad\" ])\n",
    "        \n",
    "plt.figure(figsize = (14, 9))\n",
    "for dof in range(0, 6):\n",
    "    if dof!=2:\n",
    "        tel2.sm.flatten()\n",
    "        tel2.sm.actuators = tel2_actuators[dof]\n",
    "        rms_scda = np.sqrt(np.mean((tel2.sm.opd[np.where(tel2.aperture!= 0)])**2)) * 1e9\n",
    "        plt.subplot(2, 3, dof+1)\n",
    "        plt.title(titles[dof], fontweight = 'bold')\n",
    "        hcipy.imshow_field(tel2.sm.opd*1e9, cmap='jet')\n",
    "        plt.xlabel(f'RMS: {rms_scda:.2f} nm')\n",
    "        cbar = plt.colorbar()\n",
    "        cbar.set_label(\"in nm\", loc='center')\n",
    "\n",
    "plt.subplot(2, 3, 3)\n",
    "tel2.sm.flatten()\n",
    "tel2.sm.actuators = tel2_actuators[2]\n",
    "rms_scda = np.sqrt(np.mean((tel2.sm.opd[np.where(tel2.aperture!= 0)])**2)) * 1e9\n",
    "plt.title(\"Z nm RMS/um\", fontweight = 'bold')\n",
    "hcipy.imshow_field(tel2.sm.opd*1e9, cmap='jet', vmin = -2000,  vmax= -1960)\n",
    "plt.xlabel(f\"RMS: {rms_scda:.2f} nm\")\n",
    "cbar = plt.colorbar()\n",
    "cbar.set_label(\"in nm\", loc='center')"
   ]
  },
  {
   "cell_type": "markdown",
   "id": "15f1dcdf",
   "metadata": {},
   "source": [
    "#### Check the OPDs for atleast one DOF before running the time-series. I'm plotting below surface, therefore the colorbar should be 1/2 of what the above plot shows. "
   ]
  },
  {
   "cell_type": "code",
   "execution_count": null,
   "id": "932ccf52",
   "metadata": {},
   "outputs": [],
   "source": [
    "tel2.sm.flatten()\n",
    "\n",
    "for hwo_seg in range(0, tel2.nseg):\n",
    "    scda_seg = hwo_to_scda[str(hwo_seg + 1)] - 1\n",
    "    for hexike in range(0, n_zernikes):\n",
    "        tel2.sm.actuators[hexike + scda_seg * n_zernikes] = tel2_actuators[1][hexike + scda_seg * n_zernikes]\n",
    "        \n",
    "plt.figure()\n",
    "hcipy.imshow_field(tel2.sm.surface*1e9, cmap='jet')\n",
    "cbar = plt.colorbar()\n",
    "cbar.set_label(\"in nm\", loc='center')"
   ]
  },
  {
   "cell_type": "markdown",
   "id": "55bfdeec",
   "metadata": {},
   "source": [
    "### Run time-series for all DOFs. "
   ]
  },
  {
   "cell_type": "code",
   "execution_count": null,
   "id": "06756b1c",
   "metadata": {
    "scrolled": true
   },
   "outputs": [],
   "source": [
    "tel2.sm.flatten()\n",
    "dx_times = []\n",
    "for time in range(0, 401):\n",
    "    dx = time_series[:, time*6] * 1e12 # in units of pm. \n",
    "    dx = np.delete(dx, -1)\n",
    "    dx_times.append(dx)\n",
    "\n",
    "dy_times = []\n",
    "for time in range(0, 401):\n",
    "    dy = time_series[:, time*6 + 1] * 1e12 # in units of pm. \n",
    "    dy = np.delete(dy, -1)\n",
    "    dy_times.append(dy)\n",
    "    \n",
    "dz_times = []\n",
    "for time in range(0, 401):\n",
    "    dz = time_series[:, time*6 + 2] * 1e12 # in units of pm. \n",
    "    dz = np.delete(dz, -1)\n",
    "    dz_times.append(dz) \n",
    "    \n",
    "rdx_times = []\n",
    "for time in range(0, 401):\n",
    "    rdx = time_series[:, time*6 + 3] * 1e12 # in units of pm. \n",
    "    rdx = np.delete(rdx, -1)\n",
    "    rdx_times.append(rdx)\n",
    "    \n",
    "    \n",
    "rdy_times = []\n",
    "for time in range(0, 401):\n",
    "    rdy = time_series[:, time*6 + 4] * 1e12 # in units of pm. \n",
    "    rdy = np.delete(rdy, -1)\n",
    "    rdy_times.append(rdy)\n",
    "    \n",
    "rdz_times = []\n",
    "for time in range(0, 401):\n",
    "    rdz = time_series[:, time*6 + 5] * 1e12 # in units of pm. \n",
    "    rdz = np.delete(rdz, -1)\n",
    "    rdz_times.append(rdz)\n",
    "    \n",
    "\n",
    "contrasts_dof = []\n",
    "for time in range(0, 401):\n",
    "    tel2.sm.flatten()\n",
    "    for hwo_seg in range(0, tel2.nseg):\n",
    "        scda_seg = hwo_to_scda[str(hwo_seg + 1)] - 1\n",
    "        for hexike in range(0, n_zernikes):\n",
    "            dox = tel2_actuators[0][hexike + scda_seg * n_zernikes] * dx_times[time][hwo_seg] * 1e-6\n",
    "            doy = tel2_actuators[1][hexike + scda_seg * n_zernikes] * dy_times[time][hwo_seg] * 1e-6\n",
    "            doz = tel2_actuators[2][hexike + scda_seg * n_zernikes] * dz_times[time][hwo_seg] * 1e-6\n",
    "            rdx = tel2_actuators[3][hexike + scda_seg * n_zernikes] * rdx_times[time][hwo_seg] * 1e-6\n",
    "            rdy = tel2_actuators[4][hexike + scda_seg * n_zernikes] * rdy_times[time][hwo_seg] * 1e-6\n",
    "            rdz = tel2_actuators[5][hexike + scda_seg * n_zernikes] * rdz_times[time][hwo_seg] * 1e-6\n",
    "            tel2.sm.actuators[hexike + scda_seg * n_zernikes] =  dox + doy + doz + rdx + rdy + rdz\n",
    "    \n",
    "\n",
    "    aberrated_psf, ref, intermediates = tel2.calc_psf(ref=True, display_intermediate=False, return_intermediate='intensity',norm_one_photon=True)\n",
    "    normalized_aberrated_psf = aberrated_psf / norm\n",
    "    aberr_roi = normalized_aberrated_psf * tel2.dh_mask\n",
    "    aber_contrast_floor = np.mean(aberr_roi[np.where(tel2.dh_mask != 0)])\n",
    "    contrasts_dof.append(aber_contrast_floor)\n",
    "    print(\"contrast_floor:\", aber_contrast_floor)"
   ]
  },
  {
   "cell_type": "code",
   "execution_count": null,
   "id": "09838d58",
   "metadata": {},
   "outputs": [],
   "source": [
    "np.savetxt(os.path.join(analysis_path, f'contrast_dof_{tel2.wvln*1e9 :.0f}.csv'), contrasts_dof, delimiter=',')"
   ]
  },
  {
   "cell_type": "code",
   "execution_count": null,
   "id": "d9f348fa",
   "metadata": {},
   "outputs": [],
   "source": [
    "contrasts_dof_500 = np.genfromtxt(os.path.join(analysis_path, 'contrast_dof_openloop.csv'), delimiter=',')\n",
    "\n",
    "plt.figure(figsize=(20, 10))\n",
    "times = np.arange(0, 401, 1)\n",
    "plt.plot(times, contrasts_dof, marker='s', markersize=8, linewidth=2, label='total_475')\n",
    "plt.plot(times, contrasts_dof_500, marker='s', markersize=8, linewidth=2, label='total_500')\n",
    "plt.axhline(y=4.171337358217274e-11, color='r', linestyle='--', label='contrast_floor')\n",
    "#plt.ylim(4.1e-11, 5.25e-11)\n",
    "plt.ylabel(\"Mean DH Contrast\", fontsize=25)\n",
    "plt.xlabel(\"Time (in s)\", fontsize=25)\n",
    "plt.legend(fontsize=20)\n",
    "plt.xticks(fontsize=20)\n",
    "plt.yticks(fontsize=20)\n",
    "plt.tight_layout()\n",
    "#plt.savefig(os.path.join(analysis_path, ''))"
   ]
  },
  {
   "cell_type": "markdown",
   "id": "9521f599",
   "metadata": {},
   "source": [
    "Note, check that time_series[0, 6] should be equal to dx_times[1][0] if the sorting is correct. "
   ]
  },
  {
   "cell_type": "markdown",
   "id": "7fc96d71",
   "metadata": {},
   "source": [
    "#### Plot a histogram"
   ]
  },
  {
   "cell_type": "code",
   "execution_count": null,
   "id": "b540b147",
   "metadata": {},
   "outputs": [],
   "source": [
    "plt.figure(figsize =(5,5))\n",
    "\n",
    "n, bins, _ = plt.hist(contrasts_dof, 100, density=False, alpha=1)\n",
    "# mu, sigma = scipy.stats.norm.fit(rms_wfs)\n",
    "# best_fit_line = scipy.stats.norm.pdf(bins, mu, sigma)\n",
    "# label = r'$\\mu$ =%.2f, $\\sigma$= %.2f'%(mu,sigma)\n",
    "#plt.plot(bins, best_fit_line, lw='4')\n",
    "#plt.axvline(mean_aberration, c='r', ls='-.', lw='3')\n",
    "#plt.hist(contrasts_dof, 50)\n",
    "plt.xlabel(\"Mean Contrast in DH\", fontsize =20)\n",
    "plt.ylabel(\"Frequency\",fontsize =15)\n",
    "plt.tick_params(axis='both', which='both', length=6, width=2, labelsize=20)\n",
    "plt.legend(fontsize=25)"
   ]
  },
  {
   "cell_type": "code",
   "execution_count": null,
   "id": "62b5f512",
   "metadata": {},
   "outputs": [],
   "source": []
  }
 ],
 "metadata": {
  "kernelspec": {
   "display_name": "Python 3 (ipykernel)",
   "language": "python",
   "name": "python3"
  },
  "language_info": {
   "codemirror_mode": {
    "name": "ipython",
    "version": 3
   },
   "file_extension": ".py",
   "mimetype": "text/x-python",
   "name": "python",
   "nbconvert_exporter": "python",
   "pygments_lexer": "ipython3",
   "version": "3.10.8"
  }
 },
 "nbformat": 4,
 "nbformat_minor": 5
}
