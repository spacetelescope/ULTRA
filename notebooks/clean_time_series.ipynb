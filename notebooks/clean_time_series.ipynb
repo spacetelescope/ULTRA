{
 "cells": [
  {
   "cell_type": "code",
   "execution_count": null,
   "id": "5aa116e6",
   "metadata": {},
   "outputs": [],
   "source": [
    "import numpy as np\n",
    "import os\n",
    "import matplotlib.pyplot as plt\n",
    "\n",
    "from astropy.io import fits\n",
    "from matplotlib.colors import LogNorm, TwoSlopeNorm\n",
    "import numpy as np\n",
    "import scipy.io\n",
    "import hcipy\n",
    "\n",
    "import pastis.util as util\n",
    "from pastis.config import CONFIG_PASTIS\n",
    "from pastis.simulators.luvoir_imaging import LuvoirA_APLC\n",
    "from pastis.simulators.scda_telescopes import HexRingAPLC\n",
    "\n",
    "os.chdir('../ULTRA')\n",
    "from config import CONFIG_ULTRA"
   ]
  },
  {
   "cell_type": "code",
   "execution_count": null,
   "id": "5dda4c59",
   "metadata": {},
   "outputs": [],
   "source": [
    "data_path = CONFIG_ULTRA.get('local_path', 'local_data_path')\n",
    "analysis_path = CONFIG_ULTRA.get('local_path', 'local_analysis_path')\n",
    "\n",
    "input_misalignments = np.genfromtxt(os.path.join(data_path,'INPUT_MISALIGNMENTS.txt'),  delimiter=';')\n",
    "output_misalignments = np.genfromtxt(os.path.join(data_path,'RESIDUAL_MISALIGNMENTS.txt'),  delimiter=';')"
   ]
  },
  {
   "cell_type": "code",
   "execution_count": null,
   "id": "4fd0557b",
   "metadata": {},
   "outputs": [],
   "source": [
    "print(\"input_misalignment shape:\", input_misalignments.shape)\n",
    "print(\"output_misalignment shape:\", output_misalignments.shape)"
   ]
  },
  {
   "cell_type": "code",
   "execution_count": null,
   "id": "c98e1081",
   "metadata": {},
   "outputs": [],
   "source": [
    "tel2_actuators = 0.5 * fits.getdata(os.path.join(analysis_path, 'optical_sensitvity.fits'))\n",
    "# multiplying 0.5 to compensate a factor of ~2 for Hexike Coefficients, See email for the RMS."
   ]
  },
  {
   "cell_type": "markdown",
   "id": "6f2a3742",
   "metadata": {},
   "source": [
    "### Instantiate the 2Hex Simulator"
   ]
  },
  {
   "cell_type": "code",
   "execution_count": null,
   "id": "75a7b4c1",
   "metadata": {
    "scrolled": true
   },
   "outputs": [],
   "source": [
    "optics_dir = os.path.join(util.find_repo_location(), 'data', 'SCDA')\n",
    "NUM_RINGS = 2\n",
    "sampling = 4\n",
    "\n",
    "tel2 = HexRingAPLC(optics_dir, NUM_RINGS, sampling)\n",
    "\n",
    "# Set the total number of hexike polynomials you want over the hexagonal segment.\n",
    "n_zernikes = 11\n",
    "tel2.create_segmented_mirror(n_zernikes)\n",
    "\n",
    "unaberrated_psf, ref, intermediates = tel2.calc_psf(ref=True, display_intermediate=True, \n",
    "                                  return_intermediate='intensity',\n",
    "                                  norm_one_photon=True)\n",
    "\n",
    "norm = np.max(ref)\n",
    "normalized_unaberrated_psf = unaberrated_psf / norm\n",
    "\n",
    "unaberr_roi = normalized_unaberrated_psf * tel2.dh_mask\n",
    "contrast_floor = np.mean(unaberr_roi[np.where(tel2.dh_mask != 0)])\n",
    "\n",
    "\n",
    "print(\"contrast_floor:\", contrast_floor)\n",
    "print(\"Wavelength:\", tel2.wvln)"
   ]
  },
  {
   "cell_type": "markdown",
   "id": "5dd06149",
   "metadata": {},
   "source": [
    "#### Load HWO sensitivities .mat file"
   ]
  },
  {
   "cell_type": "markdown",
   "id": "739cd90d",
   "metadata": {},
   "source": [
    "#### Map HWO segment number to the SCDA segment number:"
   ]
  },
  {
   "cell_type": "code",
   "execution_count": null,
   "id": "5afb3b6b",
   "metadata": {},
   "outputs": [],
   "source": [
    "hwo_to_scda = {\"1\": 4, \"2\": 5, \"3\": 6, \"4\":7, \"5\":2, \"6\":3, \"7\":12, \"8\":13, \"9\":14, \"10\":15,\n",
    "               \"11\": 16, \"12\":17, \"13\":18, \"14\":19, \"15\":8, \"16\":9, \"17\":10, \"18\":11, \"19\":1}\n",
    "\n",
    "hwo_scda_segments = np.array([4, 5, 6, 7, 2, 3, 12, 13, 14, 15, 16, 17, 18, 19, 8, 9, 10, 11, 1])"
   ]
  },
  {
   "cell_type": "markdown",
   "id": "01669549",
   "metadata": {},
   "source": [
    "#### Sort coefficient table for each segment.  "
   ]
  },
  {
   "cell_type": "code",
   "execution_count": null,
   "id": "21803af8",
   "metadata": {},
   "outputs": [],
   "source": [
    "segs_tables = []\n",
    "for seg in range(0, tel2.nseg):\n",
    "    seg_table = hwo_hexike_coeffs[:, seg, :].T\n",
    "    segs_tables.append(seg_table)"
   ]
  },
  {
   "cell_type": "markdown",
   "id": "eb128f54",
   "metadata": {},
   "source": [
    "### Sort Zernike coefficients, and initialize the actuators"
   ]
  },
  {
   "cell_type": "code",
   "execution_count": null,
   "id": "cce7ff85",
   "metadata": {
    "scrolled": false
   },
   "outputs": [],
   "source": [
    "titles = np.array([\"X nm RMS/um\", \"Y nm RMS/um\", \"Z nm RMS/um\", \n",
    "                  \"Rx nm RMS/urad\", \"Ry nm RMS/urad\", \"Rz nm RMS/urad\" ])\n",
    "        \n",
    "plt.figure(figsize = (14, 9))\n",
    "for dof in range(0, 6):\n",
    "    if dof!=2:\n",
    "        tel2.sm.flatten()\n",
    "        tel2.sm.actuators = tel2_actuators[dof]\n",
    "        rms_scda = np.sqrt(np.mean((tel2.sm.opd[np.where(tel2.aperture!= 0)])**2)) * 1e9\n",
    "        plt.subplot(2, 3, dof+1)\n",
    "        plt.title(titles[dof], fontweight = 'bold')\n",
    "        hcipy.imshow_field(tel2.sm.opd*1e9, cmap='jet')\n",
    "        plt.xlabel(f'RMS: {rms_scda:.2f} nm')\n",
    "        cbar = plt.colorbar()\n",
    "        cbar.set_label(\"in nm\", loc='center')\n",
    "\n",
    "plt.subplot(2, 3, 3)\n",
    "tel2.sm.flatten()\n",
    "tel2.sm.actuators = tel2_actuators[2]\n",
    "rms_scda = np.sqrt(np.mean((tel2.sm.opd[np.where(tel2.aperture!= 0)])**2)) * 1e9\n",
    "plt.title(\"Z nm RMS/um\", fontweight = 'bold')\n",
    "hcipy.imshow_field(tel2.sm.opd*1e9, cmap='jet', vmin = -2000,  vmax= -1960)\n",
    "plt.xlabel(f\"RMS: {rms_scda:.2f} nm\")\n",
    "cbar = plt.colorbar()\n",
    "cbar.set_label(\"in nm\", loc='center')\n",
    "#plt.savefig(os.path.join(analysis_path, 'hwo_PTT_sorted.png'))"
   ]
  },
  {
   "cell_type": "markdown",
   "id": "15f1dcdf",
   "metadata": {},
   "source": [
    "### Note, the plot above should match with OPDs from Garrett for the case with PTT.  If not matching, there might be some error in sorting the segment number or Zernike coefficients. "
   ]
  },
  {
   "cell_type": "code",
   "execution_count": null,
   "id": "06756b1c",
   "metadata": {
    "scrolled": false
   },
   "outputs": [],
   "source": [
    "tel2.sm.flatten()\n",
    "dx_times = []\n",
    "for time in range(0, 401):\n",
    "    dx = output_misalignments[:, time*6] * 1e12 # in units of pm. \n",
    "    dx = np.delete(dx, -1)\n",
    "    dx_times.append(dx)\n",
    "\n",
    "dy_times = []\n",
    "for time in range(0, 401):\n",
    "    dy = output_misalignments[:, time*6 + 1] * 1e12 # in units of pm. \n",
    "    dy = np.delete(dy, -1)\n",
    "    dy_times.append(dy)\n",
    "    \n",
    "dz_times = []\n",
    "for time in range(0, 401):\n",
    "    dz = output_misalignments[:, time*6 + 2] * 1e12 # in units of pm. \n",
    "    dz = np.delete(dz, -1)\n",
    "    dz_times.append(dz) \n",
    "    \n",
    "rdx_times = []\n",
    "for time in range(0, 401):\n",
    "    rdx = output_misalignments[:, time*6 + 3] * 1e12 # in units of pm. \n",
    "    rdx = np.delete(rdx, -1)\n",
    "    rdx_times.append(rdx)\n",
    "    \n",
    "    \n",
    "rdy_times = []\n",
    "for time in range(0, 401):\n",
    "    rdy = output_misalignments[:, time*6 + 4] * 1e12 # in units of pm. \n",
    "    rdy = np.delete(rdy, -1)\n",
    "    rdy_times.append(rdy)\n",
    "    \n",
    "rdz_times = []\n",
    "for time in range(0, 401):\n",
    "    rdz = output_misalignments[:, time*6 + 5] * 1e12 # in units of pm. \n",
    "    rdz = np.delete(rdz, -1)\n",
    "    rdz_times.append(rdz)\n",
    "    \n",
    "\n",
    "contrasts_dof = []\n",
    "for time in range(0, 401):\n",
    "    tel2.sm.flatten()\n",
    "    for hwo_seg in range(0, tel2.nseg):\n",
    "        scda_seg = hwo_to_scda[str(hwo_seg + 1)] - 1\n",
    "        for hexike in range(0, n_zernikes):\n",
    "            dox = tel2_actuators[0][hexike + scda_seg * n_zernikes] * dx_times[time][hwo_seg] * 1e-6\n",
    "            doy = tel2_actuators[1][hexike + scda_seg * n_zernikes] * dy_times[time][hwo_seg] * 1e-6\n",
    "            doz = tel2_actuators[2][hexike + scda_seg * n_zernikes] * dz_times[time][hwo_seg] * 1e-6\n",
    "            rdx = tel2_actuators[3][hexike + scda_seg * n_zernikes] * rdx_times[time][hwo_seg] * 1e-6\n",
    "            rdy = tel2_actuators[4][hexike + scda_seg * n_zernikes] * rdy_times[time][hwo_seg] * 1e-6\n",
    "            rdz = tel2_actuators[5][hexike + scda_seg * n_zernikes] * rdz_times[time][hwo_seg] * 1e-6\n",
    "            tel2.sm.actuators[hexike + scda_seg * n_zernikes] =  dox + doy + doz + rdx + rdy + rdz\n",
    "    \n",
    "\n",
    "    aberrated_psf, ref, intermediates = tel2.calc_psf(ref=True, display_intermediate=False, return_intermediate='intensity',norm_one_photon=True)\n",
    "    normalized_aberrated_psf = aberrated_psf / norm\n",
    "    aberr_roi = normalized_aberrated_psf * tel2.dh_mask\n",
    "    aber_contrast_floor = np.mean(aberr_roi[np.where(tel2.dh_mask != 0)])\n",
    "    contrasts_dof.append(aber_contrast_floor)\n",
    "    print(\"contrast_floor:\", aber_contrast_floor)"
   ]
  },
  {
   "cell_type": "code",
   "execution_count": null,
   "id": "d9f348fa",
   "metadata": {},
   "outputs": [],
   "source": [
    "#np.savetxt(os.path.join(analysis_path, 'contrast_dof_openloop1.csv'), contrasts_dof, delimiter=',')\n",
    "\n",
    "contrasts_dof2 = np.genfromtxt(os.path.join(analysis_path, 'contrast_dof_closeloop.csv'), delimiter=',')\n",
    "\n",
    "plt.figure(figsize=(20, 10))\n",
    "times = np.arange(0, 401, 1)\n",
    "plt.plot(times, contrasts_dof - contrasts_dof2, marker='s', markersize=8, linewidth=2, label='total')\n",
    "plt.axhline(y=4.171337358217274e-11, color='r', linestyle='--', label='contrast_floor')\n",
    "#plt.ylim(4.1e-11, 5.25e-11)\n",
    "plt.ylabel(\"Mean DH Contrast\", fontsize=25)\n",
    "plt.xlabel(\"Time (in s)\", fontsize=25)\n",
    "plt.legend(fontsize=20)\n",
    "plt.xticks(fontsize=20)\n",
    "plt.yticks(fontsize=20)\n",
    "plt.tight_layout()\n",
    "#plt.savefig(os.path.join(analysis_path, 'open_close_loop.png'))"
   ]
  },
  {
   "cell_type": "code",
   "execution_count": null,
   "id": "7edb0c9c",
   "metadata": {},
   "outputs": [],
   "source": []
  }
 ],
 "metadata": {
  "kernelspec": {
   "display_name": "Python 3 (ipykernel)",
   "language": "python",
   "name": "python3"
  },
  "language_info": {
   "codemirror_mode": {
    "name": "ipython",
    "version": 3
   },
   "file_extension": ".py",
   "mimetype": "text/x-python",
   "name": "python",
   "nbconvert_exporter": "python",
   "pygments_lexer": "ipython3",
   "version": "3.10.8"
  }
 },
 "nbformat": 4,
 "nbformat_minor": 5
}
