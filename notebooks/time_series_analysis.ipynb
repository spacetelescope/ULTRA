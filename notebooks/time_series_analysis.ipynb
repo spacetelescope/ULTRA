{
 "cells": [
  {
   "cell_type": "markdown",
   "id": "e89b64d0",
   "metadata": {},
   "source": [
    "### Notebook deals with making a prelimnary code to analysis temporal wavefront error data."
   ]
  },
  {
   "cell_type": "code",
   "execution_count": null,
   "id": "dcd77b0b",
   "metadata": {},
   "outputs": [],
   "source": [
    "import numpy as np\n",
    "import os\n",
    "import matplotlib.pyplot as plt\n",
    "\n",
    "import numpy as np\n",
    "import scipy.io\n",
    "import hcipy\n",
    "\n",
    "import pastis.util as util\n",
    "from pastis.config import CONFIG_PASTIS\n",
    "from pastis.simulators.luvoir_imaging import LuvoirA_APLC\n",
    "from pastis.simulators.scda_telescopes import HexRingAPLC\n",
    "\n",
    "os.chdir('../ULTRA')\n",
    "from config import CONFIG_ULTRA"
   ]
  },
  {
   "cell_type": "code",
   "execution_count": null,
   "id": "e9994cda",
   "metadata": {},
   "outputs": [],
   "source": [
    "data_path = CONFIG_ULTRA.get('local_path', 'local_data_path')\n",
    "analysis_path = CONFIG_ULTRA.get('local_path', 'local_analysis_path')\n",
    "\n",
    "input_misalignments = np.genfromtxt(os.path.join(data_path,'INPUT_MISALIGNMENTS.txt'),  delimiter=';')\n",
    "output_misalignments = np.genfromtxt(os.path.join(data_path,'RESIDUAL_MISALIGNMENTS.txt'),  delimiter=';')\n",
    "\n",
    "#sensitivities = scipy.io.loadmat(os.path.join(data_path, 'dWFE_sensitivities_LEC.mat'))"
   ]
  },
  {
   "cell_type": "code",
   "execution_count": null,
   "id": "c7eb1e4f",
   "metadata": {},
   "outputs": [],
   "source": [
    "# seg1_hexike_coeffs = (sensitivities['hfit_all'][:, :, 0])\n",
    "# seg2_hexike_coeffs = (sensitivities['hfit_all'][:, :, 1])   # segn = (mat['hfit_all'][:, :, n])\n",
    "\n",
    "#np.savetxt(\"/Users/asahoo/Downloads/seg1.csv\", seg1, delimiter=\",\")"
   ]
  },
  {
   "cell_type": "code",
   "execution_count": null,
   "id": "26a7b076",
   "metadata": {},
   "outputs": [],
   "source": [
    "print(\"input_misalignment shape:\", input_misalignments.shape)\n",
    "print(\"output_misalignment shape:\", output_misalignments.shape)"
   ]
  },
  {
   "cell_type": "markdown",
   "id": "81922d55",
   "metadata": {},
   "source": [
    "#### Intantiate the LUVOIR A telescope simulator"
   ]
  },
  {
   "cell_type": "code",
   "execution_count": null,
   "id": "57300b05",
   "metadata": {},
   "outputs": [],
   "source": [
    "# optics_input = os.path.join(util.find_repo_location(), CONFIG_PASTIS.get('LUVOIR', 'optics_path_in_repo'))\n",
    "# sampling = CONFIG_PASTIS.getfloat('LUVOIR', 'sampling')\n",
    "# tel = LuvoirA_APLC(optics_input, 'small', sampling)"
   ]
  },
  {
   "cell_type": "markdown",
   "id": "5aab6e21",
   "metadata": {},
   "source": [
    "#### The following line takes ~5 minutes to execute in local machine.  "
   ]
  },
  {
   "cell_type": "code",
   "execution_count": null,
   "id": "6a757830",
   "metadata": {},
   "outputs": [],
   "source": [
    "# n_zernikes = 11      # Set the total number of hexike polynomials you want over the hexagonal segment.\n",
    "# tel.create_segmented_mirror(n_zernikes) "
   ]
  },
  {
   "cell_type": "code",
   "execution_count": null,
   "id": "5b6b0575",
   "metadata": {},
   "outputs": [],
   "source": [
    "# unaberrated_coro_psf, ref = tel.calc_psf(ref=True, display_intermediate=False, norm_one_photon=True)\n",
    "# norm = np.max(ref)\n",
    "# dh_intensity = (unaberrated_coro_psf / norm) * tel.dh_mask\n",
    "# contrast_floor = np.mean(dh_intensity[np.where(tel.dh_mask != 0)])\n",
    "# print(f'static contrast floor for luvoirA small APLC design: {contrast_floor}')"
   ]
  },
  {
   "cell_type": "code",
   "execution_count": null,
   "id": "ff55a061",
   "metadata": {},
   "outputs": [],
   "source": [
    "# num_actuators = len(tel.sm.actuators) # ensure this to be equal to (total_segments) * (total_hexikes_per_segment)"
   ]
  },
  {
   "cell_type": "code",
   "execution_count": null,
   "id": "12e9b3e3",
   "metadata": {},
   "outputs": [],
   "source": [
    "# (tel.sm.actuators).shape"
   ]
  },
  {
   "cell_type": "code",
   "execution_count": null,
   "id": "b5e8c9ca",
   "metadata": {},
   "outputs": [],
   "source": [
    "# sensitivities_table = sensitivities['hfit_all']\n",
    "# luvoir_hexike_coeffs = []\n",
    "\n",
    "# #removing the outer_ring\n",
    "# for seg in range(0, 91):\n",
    "#     seg_hexike_coeffs = sensitivities['hfit_all'][:, :, seg]\n",
    "#     luvoir_hexike_coeffs.append(seg_hexike_coeffs)"
   ]
  },
  {
   "cell_type": "code",
   "execution_count": null,
   "id": "01ebbc91",
   "metadata": {},
   "outputs": [],
   "source": [
    "#sensitivities_table.shape\n",
    "# seg1_hexike_coeffs = (sensitivities['hfit_all'][:, :, 0])"
   ]
  },
  {
   "cell_type": "code",
   "execution_count": null,
   "id": "3adcda81",
   "metadata": {},
   "outputs": [],
   "source": [
    "# seg1_hexike_coeffs.shape\n",
    "# luvoir_hexike_coeffs[0][0][0]"
   ]
  },
  {
   "cell_type": "code",
   "execution_count": null,
   "id": "515700f7",
   "metadata": {},
   "outputs": [],
   "source": [
    "# Note, Hexikes are set according to Noll Convention.\n",
    "\n",
    "# tel.sm.flatten()\n",
    "# for seg in range(0, 91):\n",
    "#     for hexike in range(0, n_zernikes):\n",
    "#         tel.sm.actuators[hexike + seg * n_zernikes] = (luvoir_hexike_coeffs[seg][2][hexike])*1e-12\n",
    "        \n",
    "\n",
    "# aberrated_coro_psf, efields_inter = tel.calc_psf(display_intermediate=False,return_intermediate='efield', norm_one_photon=True)"
   ]
  },
  {
   "cell_type": "code",
   "execution_count": null,
   "id": "6b25404e",
   "metadata": {},
   "outputs": [],
   "source": [
    "# plt.figure()\n",
    "# hcipy.imshow_field((efields_inter['seg_mirror']).phase, mask = tel.aperture, cmap='jet', vmin=-1e-4, vmax=0.0)\n",
    "# plt.colorbar()\n",
    "#plt.title('Segmented mirror phase)\n",
    "#plt.savefig(os.path.join(analysis_path, 'luvoir_drz.png'))"
   ]
  },
  {
   "cell_type": "markdown",
   "id": "45a10a79",
   "metadata": {},
   "source": [
    "#### Instantiate the 2hex simulator."
   ]
  },
  {
   "cell_type": "code",
   "execution_count": null,
   "id": "ffe16855",
   "metadata": {},
   "outputs": [],
   "source": [
    "optics_dir = os.path.join(util.find_repo_location(), 'data', 'SCDA')\n",
    "NUM_RINGS = 2\n",
    "sampling = 4\n",
    "\n",
    "tel2 = HexRingAPLC(optics_dir, NUM_RINGS, sampling)\n",
    "\n",
    "unaberrated_psf, ref, intermediates = tel2.calc_psf(ref=True, display_intermediate=False, \n",
    "                                  return_intermediate='intensity',\n",
    "                                  norm_one_photon=True)\n",
    "\n",
    "norm = np.max(ref)\n",
    "normalized_unaberrated_psf = unaberrated_psf / norm\n",
    "\n",
    "unaberr_roi = normalized_unaberrated_psf * tel2.dh_mask\n",
    "contrast_floor = np.mean(unaberr_roi[np.where(tel2.dh_mask != 0)])\n",
    "print(\"contrast_floor:\", contrast_floor)"
   ]
  },
  {
   "cell_type": "markdown",
   "id": "fc2335a3",
   "metadata": {},
   "source": [
    "#### Load HWO sensitivities .mat file"
   ]
  },
  {
   "cell_type": "code",
   "execution_count": null,
   "id": "5aeab1b0",
   "metadata": {},
   "outputs": [],
   "source": [
    "hwo_sensitivities = scipy.io.loadmat(os.path.join(data_path, 'HWO_sens.mat'))\n",
    "hwo_table = hwo_sensitivities['HWO_sens']\n",
    "first_element = hwo_table[0,0]\n",
    "data_list = first_element.tolist()  # tuple of length 4"
   ]
  },
  {
   "cell_type": "code",
   "execution_count": null,
   "id": "2e015013",
   "metadata": {},
   "outputs": [],
   "source": [
    "hwo_hexike_coeffs = data_list[0]  # ndarray of shape (11, 19, 6)\n",
    "mask = data_list[1]    # ndarray of shape (256, 256, 19, 6)\n",
    "dopd = data_list[2]    # ndarray of shape (256, 256, 19, 6)\n",
    "units = data_list[3]   # ndarray of shape (1,) where the only element is a string"
   ]
  },
  {
   "cell_type": "code",
   "execution_count": null,
   "id": "063fe6ea",
   "metadata": {},
   "outputs": [],
   "source": [
    "seg = 18 # starts with 0 till 18\n",
    "dof = 0 # starts with 0 till 5\n",
    "\n",
    "plt.figure(figsize=(8, 3))\n",
    "plt.subplot(1, 2, 1)\n",
    "plt.title(\"mask\")\n",
    "plt.imshow(mask[:, :, seg, dof])\n",
    "plt.colorbar()\n",
    "\n",
    "plt.subplot(1, 2, 2)\n",
    "plt.title(\"dopd\")\n",
    "plt.imshow(dopd[:, :, seg, dof], cmap='jet')\n",
    "plt.colorbar()"
   ]
  },
  {
   "cell_type": "markdown",
   "id": "6a27b005",
   "metadata": {},
   "source": [
    "#### Plot surface maps using the opd data only"
   ]
  },
  {
   "cell_type": "code",
   "execution_count": null,
   "id": "6e2bcebe",
   "metadata": {},
   "outputs": [],
   "source": [
    "dopds = []\n",
    "\n",
    "for dof in range(0, dopd.shape[3]):\n",
    "    full_dopd = np.zeros((dopd.shape[1], dopd.shape[1]))\n",
    "    for seg in range(0, dopd.shape[2]):\n",
    "        opd_per_segment = dopd[:, :, seg, dof]\n",
    "        full_dopd = opd_per_segment + full_dopd\n",
    "        \n",
    "    dopds.append(full_dopd)\n",
    "    \n",
    "titles = np.array([\"X nm RMS/um\", \"Y nm RMS/um\", \"Z nm RMS/um\", \n",
    "                  \"Rx nm RMS/urad\", \"Ry nm RMS/urad\", \"Rz nm RMS/urad\" ])\n",
    "        \n",
    "plt.figure(figsize = (14, 7))\n",
    "for dof in range(0, len(dopds)):\n",
    "    if dof!=2:\n",
    "        plt.subplot(2, 3, dof+1)\n",
    "        plt.title(titles[dof], fontweight = 'bold')\n",
    "        plt.imshow(dopds[dof], cmap='jet')\n",
    "        plt.colorbar()\n",
    "\n",
    "plt.subplot(2, 3, 3)\n",
    "plt.title(\"Z nm RMS/um\", fontweight = 'bold')\n",
    "plt.imshow(dopds[2], cmap='jet', vmin=-2000, vmax= -1966)\n",
    "plt.colorbar()"
   ]
  },
  {
   "cell_type": "code",
   "execution_count": null,
   "id": "97146135",
   "metadata": {
    "scrolled": false
   },
   "outputs": [],
   "source": [
    "#do not understand why they sent me multiple masks, \n",
    "#I plotted all the masks per dof, subtracted two masks to check if there is some mismatch between dofs, \n",
    "#they are identical to 1e-30 scientific precision.\n",
    "\n",
    "masks = []\n",
    "\n",
    "for dof in range(0, mask.shape[3]):\n",
    "    full_mask = np.zeros((mask.shape[1], mask.shape[1]))\n",
    "    for seg in range(0, mask.shape[2]):\n",
    "        mask_per_segment = mask[:, :, seg, dof]\n",
    "        full_mask = mask_per_segment + full_mask\n",
    "        \n",
    "    masks.append(full_mask)\n",
    "    \n",
    "titles = np.array([\"mask (X nm RMS/um)\", \"mask (Y nm RMS/um)\", \"mask (Z nm RMS/um)\", \n",
    "                  \"mask (Rx nm RMS/urad)\", \"mask (Ry nm RMS/urad)\", \"mask (Rz nm RMS/urad)\"])\n",
    "    \n",
    "plt.figure(figsize = (14, 7))\n",
    "for dof in range(0, len(dopds)):\n",
    "    plt.subplot(2, 3, dof+1)\n",
    "    plt.title(titles[dof], fontweight = 'bold')\n",
    "    plt.imshow(masks[dof], cmap='jet')\n",
    "    plt.colorbar()"
   ]
  },
  {
   "cell_type": "code",
   "execution_count": null,
   "id": "cc9928e6",
   "metadata": {},
   "outputs": [],
   "source": [
    "dopds = np.array(dopds)\n",
    "masks = np.array(masks)\n",
    "\n",
    "titles = np.array([\"X nm RMS/um\", \"Y nm RMS/um\", \"Z nm RMS/um\", \n",
    "                  \"Rx nm RMS/urad\", \"Ry nm RMS/urad\", \"Rz nm RMS/urad\" ])\n",
    "\n",
    "for dof in range(0, len(dopds)):\n",
    "    rms = np.sqrt((np.mean(dopds[dof][np.where(masks[dof]!= 0)]**2)))\n",
    "    print(titles[dof],\"----\", rms)"
   ]
  },
  {
   "cell_type": "markdown",
   "id": "6a83ea48",
   "metadata": {},
   "source": [
    "### Map HWO segment number to the SCDA segment number:"
   ]
  },
  {
   "cell_type": "code",
   "execution_count": null,
   "id": "85c09980",
   "metadata": {},
   "outputs": [],
   "source": [
    "hwo_to_scda = {\"1\": 4, \"2\": 5, \"3\": 6, \"4\":7, \"5\":2, \"6\":3, \"7\":12, \"8\":13, \"9\":14, \"10\":15,\n",
    "               \"11\": 16, \"12\":17, \"13\":18, \"14\":19, \"15\":8, \"16\":9, \"17\":10, \"18\":11, \"19\":1}\n",
    "\n",
    "hwo_scda_segments = np.array([4, 5, 6, 7, 2, 3, 12, 13, 14, 15, 16, 17, 18, 19, 8, 9, 10, 11, 1])"
   ]
  },
  {
   "cell_type": "code",
   "execution_count": null,
   "id": "0b534ace",
   "metadata": {},
   "outputs": [],
   "source": [
    "seg1_table = hwo_hexike_coeffs[:, 0, :].T\n",
    "\n",
    "plt.imshow((seg1_table))\n",
    "plt.ylabel('DOF freedom')\n",
    "plt.xlabel('Zernike coefficients')\n",
    "plt.colorbar()"
   ]
  },
  {
   "cell_type": "code",
   "execution_count": null,
   "id": "224aa921",
   "metadata": {},
   "outputs": [],
   "source": [
    "segs_tables = []\n",
    "for seg in range(0, 19):\n",
    "    seg_table = hwo_hexike_coeffs[:, seg, :].T\n",
    "    segs_tables.append(seg_table)\n",
    "\n",
    "n_zernikes = 11      # Set the total number of hexike polynomials you want over the hexagonal segment.\n",
    "tel2.create_segmented_mirror(n_zernikes)"
   ]
  },
  {
   "cell_type": "code",
   "execution_count": null,
   "id": "777f0259",
   "metadata": {},
   "outputs": [],
   "source": [
    "hwo_scda_segments = np.array([4, 5, 6, 7, 2, 3, 12, 13, 14, 15, 16, 17, 18, 19, 8, 9, 10, 11, 1])"
   ]
  },
  {
   "cell_type": "code",
   "execution_count": null,
   "id": "eb6f28a9",
   "metadata": {
    "scrolled": true
   },
   "outputs": [],
   "source": [
    "tel2.sm.flatten()\n",
    "\n",
    "# multiply by 1/2 ?\n",
    "tel2_surfaces = []\n",
    "for dof in range(0, 6):\n",
    "    tel2.sm.flatten()\n",
    "    for hwo_seg in range(0, tel2.nseg):\n",
    "        for hexike in range(0, n_zernikes):\n",
    "            scda_seg = hwo_to_scda[str(hwo_seg + 1)] - 1\n",
    "            tel2.sm.actuators[hexike + scda_seg * n_zernikes] = segs_tables[hwo_seg][dof][hexike] * 1e-9\n",
    "    \n",
    "    tel2_surfaces.append(tel2.sm.surface)\n",
    "                      \n",
    "\n",
    "titles = np.array([\"X nm RMS/um\", \"Y nm RMS/um\", \"Z nm RMS/um\", \n",
    "                  \"Rx nm RMS/urad\", \"Ry nm RMS/urad\", \"Rz nm RMS/urad\" ])\n",
    "        \n",
    "plt.figure(figsize = (14, 7))\n",
    "for dof in range(0, len(dopds)):\n",
    "    if dof!=2:\n",
    "        plt.subplot(2, 3, dof+1)\n",
    "        plt.title(titles[dof], fontweight = 'bold')\n",
    "        hcipy.imshow_field(tel2_surfaces[dof], cmap='jet')\n",
    "        cbar = plt.colorbar()\n",
    "        cbar.set_label(\"in m\", loc='center')\n",
    "\n",
    "plt.subplot(2, 3, 3)\n",
    "plt.title(\"Z nm RMS/um\", fontweight = 'bold')\n",
    "hcipy.imshow_field(tel2_surfaces[2], cmap='jet', vmin = -2000*1e-9,  vmax= -1960*1e-9 )\n",
    "cbar = plt.colorbar()\n",
    "cbar.set_label(\"in m\", loc='center')  \n",
    "\n",
    "#plt.savefig(os.path.join(analysis_path, 'hwo_PTT.png'))\n",
    "\n",
    "# aberrated_coro_psf2, efields_inter2 = tel2.calc_psf(display_intermediate=True, \n",
    "#                                                     return_intermediate='efield', \n",
    "#                                                     norm_one_photon=True)\n"
   ]
  },
  {
   "cell_type": "code",
   "execution_count": null,
   "id": "fc8e4e99",
   "metadata": {},
   "outputs": [],
   "source": [
    "ref_table = segs_tables[0]\n",
    "print(ref_table)"
   ]
  },
  {
   "cell_type": "markdown",
   "id": "f32a474e",
   "metadata": {},
   "source": [
    "#### Sorting Zernike coefficients"
   ]
  },
  {
   "cell_type": "code",
   "execution_count": null,
   "id": "dcdff139",
   "metadata": {},
   "outputs": [],
   "source": [
    "# segs_tables = []\n",
    "# for seg in range(0, 19):\n",
    "#     seg_table = hwo_hexike_coeffs[:, seg, :].T\n",
    "#     segs_tables.append(seg_table)"
   ]
  },
  {
   "cell_type": "code",
   "execution_count": null,
   "id": "3b1830a7",
   "metadata": {},
   "outputs": [],
   "source": [
    "# seg1_table = segs_tables[0]\n",
    "# print(seg1_table[0, :])"
   ]
  },
  {
   "cell_type": "code",
   "execution_count": null,
   "id": "7c9f2cf7",
   "metadata": {},
   "outputs": [],
   "source": [
    "#A = np.array([[1, 8, 9, 4], [2, 6, 7, 0], [1, 3, 8, 9], [0, 0, 4,1]])\n",
    "A = np.array([[1.6, 8, 9, 4], [2, 6, 7, 0], [1, 3, 8, 9]])\n",
    "print(A)\n",
    "\n",
    "A[:,[0,3]] = A[:,[3,0]]\n",
    "print(A)"
   ]
  },
  {
   "cell_type": "code",
   "execution_count": null,
   "id": "d3b69237",
   "metadata": {},
   "outputs": [],
   "source": [
    "# seg1_table[:, [5, 4]] = seg1_table[:, [4, 5]] # swapping astigmatism\n",
    "# seg1_table[:, [7, 6]] = seg1_table[:, [6, 7]] # swapping coma"
   ]
  },
  {
   "cell_type": "code",
   "execution_count": null,
   "id": "fb4119a5",
   "metadata": {},
   "outputs": [],
   "source": [
    "segs_tables2 = []\n",
    "\n",
    "for seg in range(0, tel2.nseg):\n",
    "    \n",
    "    seg_table = np.array(segs_tables[seg])\n",
    "    seg_table[:, [5, 4]] = seg_table[:, [4, 5]] # swapping astigmatism\n",
    "    seg_table[:, [7, 6]] = seg_table[:, [6, 7]] # swapping coma\n",
    "    seg_table[:, [10, 8]] = seg_table[:, [8, 10]]\n",
    "    \n",
    "    segs_tables2.append(seg_table)"
   ]
  },
  {
   "cell_type": "code",
   "execution_count": null,
   "id": "b83f64bf",
   "metadata": {},
   "outputs": [],
   "source": [
    "sorted_seg_table = segs_tables2[0]\n",
    "\n",
    "print(ref_table[:, 0], \"\\n\", \"\\n\")\n",
    "print(sorted_seg_table[:, 0])\n",
    "\n",
    "print(type(ref_table))\n",
    "\n",
    "plt.imshow(ref_table - sorted_seg_table)\n",
    "plt.colorbar()"
   ]
  },
  {
   "cell_type": "code",
   "execution_count": null,
   "id": "73aa666e",
   "metadata": {},
   "outputs": [],
   "source": [
    "tel2.sm.flatten()\n",
    "\n",
    "# multiply by 1/2 ?\n",
    "tel2_surfaces = []\n",
    "for dof in range(0, 6):\n",
    "    tel2.sm.flatten()\n",
    "    for hwo_seg in range(0, tel2.nseg):\n",
    "        for hexike in range(0, n_zernikes):\n",
    "            scda_seg = hwo_to_scda[str(hwo_seg + 1)] - 1\n",
    "            tel2.sm.actuators[hexike + scda_seg * n_zernikes] = segs_tables2[hwo_seg][dof][hexike] * 1e-9\n",
    "    \n",
    "    tel2_surfaces.append(tel2.sm.surface)\n",
    "                      \n",
    "\n",
    "titles = np.array([\"X nm RMS/um\", \"Y nm RMS/um\", \"Z nm RMS/um\", \n",
    "                  \"Rx nm RMS/urad\", \"Ry nm RMS/urad\", \"Rz nm RMS/urad\" ])\n",
    "        \n",
    "plt.figure(figsize = (14, 7))\n",
    "for dof in range(0, len(dopds)):\n",
    "    if dof!=2:\n",
    "        plt.subplot(2, 3, dof+1)\n",
    "        plt.title(titles[dof], fontweight = 'bold')\n",
    "        hcipy.imshow_field(tel2_surfaces[dof], cmap='jet')\n",
    "        cbar = plt.colorbar()\n",
    "        cbar.set_label(\"in m\", loc='center')\n",
    "\n",
    "plt.subplot(2, 3, 3)\n",
    "plt.title(\"Z nm RMS/um\", fontweight = 'bold')\n",
    "hcipy.imshow_field(tel2_surfaces[2], cmap='jet', vmin = -2000*1e-9,  vmax= -1960*1e-9 )\n",
    "cbar = plt.colorbar()\n",
    "cbar.set_label(\"in m\", loc='center')\n"
   ]
  },
  {
   "cell_type": "code",
   "execution_count": null,
   "id": "00787bb9",
   "metadata": {},
   "outputs": [],
   "source": [
    "# Note, Hexikes are set according to Noll Convention., maximum 1000 nm aberrations it can handle. \n",
    "\n",
    "tel2.sm.flatten()\n",
    "\n",
    "\n",
    "# for seg in range(0, 1):\n",
    "#     for hexike in range(0, n_zernikes):\n",
    "#         print(\"Seg num:\", seg, \"hexike_num:\",hexike, \"Coeffs in nm: \", segs_tables[seg][5][hexike])\n",
    "#         tel2.sm.actuators[hexike + seg * n_zernikes] = segs_tables[seg][5][hexike] * 1e-9\n",
    "\n",
    "\n",
    "# rms_aber = np.sqrt(np.mean((tel2.sm.actuators)**2))*1e9 # in nm \n",
    "\n",
    "# tel2.sm.actuators[1] = 1/2 * 1000 *1e-9\n",
    "# tel2.sm.actuators[12] = 1/2*1000 *1e-9\n",
    "# aberrated_coro_psf2, efields_inter2 = tel2.calc_psf(display_intermediate=False,return_intermediate='efield', norm_one_photon=True)\n",
    "\n",
    "# plt.figure()\n",
    "# plt.subplot(1,3,1)\n",
    "# hcipy.imshow_field(np.angle(np.exp(1j * (tel2.sm.phase_for(500e-9)))), cmap='jet')\n",
    "# plt.colorbar()\n",
    "# plt.subplot(1,3,2)\n",
    "# hcipy.imshow_field((tel2.sm.phase_for(500e-9)), cmap='jet')\n",
    "# plt.colorbar()\n",
    "\n",
    "# plt.subplot(1,3,3)\n",
    "# plt.title(\"surface\")\n",
    "# hcipy.imshow_field((tel2.sm.surface), cmap='jet')\n",
    "# plt.colorbar()\n",
    "# plt.show()\n",
    "\n",
    "# plt.figure()\n",
    "# hcipy.imshow_field((efields_inter2['seg_mirror']).phase, mask = tel2.aperture, cmap='jet', origin='lower')\n",
    "# plt.title(f'Segmented mirror phase')\n",
    "# plt.colorbar()\n",
    "\n",
    "# plt.savefig(os.path.join(analysis_path, 'usort_Rz_dof.png'))"
   ]
  },
  {
   "cell_type": "code",
   "execution_count": null,
   "id": "d17e6fb6",
   "metadata": {},
   "outputs": [],
   "source": [
    "sm_wavefront_phase = efields_inter2['seg_mirror'].phase"
   ]
  },
  {
   "cell_type": "code",
   "execution_count": null,
   "id": "74d5efea",
   "metadata": {
    "scrolled": true
   },
   "outputs": [],
   "source": [
    " efields_inter2['seg_mirror'].wavelength"
   ]
  },
  {
   "cell_type": "code",
   "execution_count": null,
   "id": "f4b6b010",
   "metadata": {},
   "outputs": [],
   "source": [
    " segs_tables[1][0][0] "
   ]
  },
  {
   "cell_type": "markdown",
   "id": "b42fa8db",
   "metadata": {},
   "source": [
    "#### Plot the hexmaps from ball.\n",
    " "
   ]
  },
  {
   "cell_type": "code",
   "execution_count": null,
   "id": "ca5dff4b",
   "metadata": {},
   "outputs": [],
   "source": [
    "def cart2pol(x, y):\n",
    "    rho = np.sqrt(x**2 + y**2)\n",
    "    phi = np.arctan2(y, x)\n",
    "    return(rho, phi)\n",
    "\n",
    "X = np.linspace(-10, 10, 1000)\n",
    "Y = np.linspace(-10, 10, 1000)\n",
    "\n",
    "th, R = cart2pol(X, -Y)"
   ]
  },
  {
   "cell_type": "code",
   "execution_count": null,
   "id": "ccc96ff8",
   "metadata": {
    "scrolled": false
   },
   "outputs": [],
   "source": [
    "z1 = np.ones(X.shape) \n",
    "z2 = np.sqrt(24/5)*X\n",
    "z3 = np.sqrt(24/5)*Y\n",
    "z4 = np.sqrt(720/43)*(R**2 - 5/12)\n",
    "z5 = np.sqrt(60/7)*(R**2)*np.cos(2*th)\n",
    "z6 = np.sqrt(60/7)*(R**2)*np.sin(2*th)\n",
    "z7 = np.sqrt(84000/737)*(R**2 - 14/25)*R*np.cos(th)\n",
    "z8 = np.sqrt(84000/737)*(R**2 - 14/25)*R*np.sin(th)\n",
    "z9 = np.sqrt(1517040/4987)*(R**4 - 257/301*(R**2) + 737/6020)\n",
    "z10 = np.sqrt(1120/103)*(R**3)*(np.cos(3*th))\n",
    "z11 = np.sqrt(160/9)*(R**3)*(np.cos(3*th))\n",
    "\n",
    "plt.figure()\n",
    "plt.subplot(3, 4, 1)\n",
    "plt.plot(X, z1)\n",
    "\n",
    "plt.subplot(3, 4, 2)\n",
    "plt.plot(X, z2)\n",
    "\n",
    "plt.subplot(3, 4, 3)\n",
    "plt.plot(X, z3)\n",
    "\n",
    "plt.subplot(3, 4, 4)\n",
    "plt.plot(X, z4)\n",
    "\n",
    "plt.subplot(3, 4, 5)\n",
    "plt.plot(X, z5)\n",
    "\n",
    "plt.subplot(3, 4, 6)\n",
    "plt.plot(X, z6)\n",
    "\n",
    "plt.subplot(3, 4, 7)\n",
    "plt.plot(X, z7)\n",
    "\n",
    "plt.subplot(3, 4, 8)\n",
    "plt.plot(X, z8)\n",
    "\n",
    "plt.subplot(3, 4, 9)\n",
    "plt.plot(X, z9)\n",
    "\n",
    "plt.subplot(3, 4, 10)\n",
    "plt.plot(X, z10)\n",
    "\n",
    "plt.subplot(3, 4, 11)\n",
    "plt.plot(X, z11)"
   ]
  },
  {
   "cell_type": "code",
   "execution_count": null,
   "id": "55716ed3",
   "metadata": {},
   "outputs": [],
   "source": [
    "grid = hcipy.make_pupil_grid(1000)\n",
    "th, R = grid.as_('polar').coords\n",
    "X, Y = grid.coords\n",
    "\n",
    "z1 = np.ones(X.shape) \n",
    "z2 = np.sqrt(24/5)*X\n",
    "z3 = np.sqrt(24/5)*Y\n",
    "z4 = np.sqrt(720/43)*(R**2 - 5/12)\n",
    "z5 = np.sqrt(60/7)*(R**2)*np.cos(2*th)\n",
    "z6 = np.sqrt(60/7)*(R**2)*np.sin(2*th)\n",
    "z7 = np.sqrt(84000/737)*(R**2 - 14/25)*R*np.cos(th)\n",
    "z8 = np.sqrt(84000/737)*(R**2 - 14/25)*R*np.sin(th)\n",
    "z9 = np.sqrt(1517040/4987)*(R**4 - 257/301*(R**2) + 737/6020)\n",
    "z8 = np.sqrt(84000/737)*(R**2 - 14/25)*R*np.sin(th)\n",
    "z10 = np.sqrt(1120/103)*(R**3)*(np.cos(3*th))\n",
    "z11 = np.sqrt(160/9)*(R**3)*(np.cos(3*th))\n",
    "\n",
    "hcipy.imshow_field(z3, grid)"
   ]
  },
  {
   "cell_type": "code",
   "execution_count": null,
   "id": "d9196579",
   "metadata": {},
   "outputs": [],
   "source": [
    "index_ball_to_pastis = [19, ]"
   ]
  },
  {
   "cell_type": "code",
   "execution_count": null,
   "id": "0863f7bc",
   "metadata": {},
   "outputs": [],
   "source": [
    "z3?"
   ]
  },
  {
   "cell_type": "code",
   "execution_count": null,
   "id": "382dcfee",
   "metadata": {},
   "outputs": [],
   "source": []
  },
  {
   "cell_type": "code",
   "execution_count": null,
   "id": "f8246742",
   "metadata": {},
   "outputs": [],
   "source": []
  },
  {
   "cell_type": "code",
   "execution_count": null,
   "id": "c139566a",
   "metadata": {},
   "outputs": [],
   "source": []
  }
 ],
 "metadata": {
  "kernelspec": {
   "display_name": "Python 3 (ipykernel)",
   "language": "python",
   "name": "python3"
  },
  "language_info": {
   "codemirror_mode": {
    "name": "ipython",
    "version": 3
   },
   "file_extension": ".py",
   "mimetype": "text/x-python",
   "name": "python",
   "nbconvert_exporter": "python",
   "pygments_lexer": "ipython3",
   "version": "3.10.8"
  }
 },
 "nbformat": 4,
 "nbformat_minor": 5
}
