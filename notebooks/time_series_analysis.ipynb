{
 "cells": [
  {
   "cell_type": "markdown",
   "id": "e89b64d0",
   "metadata": {},
   "source": [
    "### Notebook deals with making a prelimnary code to analysis temporal wavefront error data."
   ]
  },
  {
   "cell_type": "code",
   "execution_count": null,
   "id": "dcd77b0b",
   "metadata": {},
   "outputs": [],
   "source": [
    "import numpy as np\n",
    "import os\n",
    "import matplotlib.pyplot as plt\n",
    "\n",
    "from astropy.io import fits\n",
    "from matplotlib.colors import LogNorm, TwoSlopeNorm\n",
    "import numpy as np\n",
    "import scipy.io\n",
    "import hcipy\n",
    "\n",
    "import pastis.util as util\n",
    "from pastis.config import CONFIG_PASTIS\n",
    "from pastis.simulators.luvoir_imaging import LuvoirA_APLC\n",
    "from pastis.simulators.scda_telescopes import HexRingAPLC\n",
    "\n",
    "os.chdir('../ULTRA')\n",
    "from config import CONFIG_ULTRA"
   ]
  },
  {
   "cell_type": "code",
   "execution_count": null,
   "id": "e9994cda",
   "metadata": {},
   "outputs": [],
   "source": [
    "data_path = CONFIG_ULTRA.get('local_path', 'local_data_path')\n",
    "analysis_path = CONFIG_ULTRA.get('local_path', 'local_analysis_path')\n",
    "\n",
    "input_misalignments = np.genfromtxt(os.path.join(data_path,'INPUT_MISALIGNMENTS.txt'),  delimiter=';')\n",
    "output_misalignments = np.genfromtxt(os.path.join(data_path,'RESIDUAL_MISALIGNMENTS.txt'),  delimiter=';')"
   ]
  },
  {
   "cell_type": "code",
   "execution_count": null,
   "id": "26a7b076",
   "metadata": {},
   "outputs": [],
   "source": [
    "print(\"input_misalignment shape:\", input_misalignments.shape)\n",
    "print(\"output_misalignment shape:\", output_misalignments.shape)"
   ]
  },
  {
   "cell_type": "markdown",
   "id": "763345cb",
   "metadata": {},
   "source": [
    "## For LUOVIR A "
   ]
  },
  {
   "cell_type": "markdown",
   "id": "320ddfac",
   "metadata": {},
   "source": [
    "### Unpacking data from .mat file "
   ]
  },
  {
   "cell_type": "code",
   "execution_count": null,
   "id": "997f4dc6",
   "metadata": {},
   "outputs": [],
   "source": [
    "#sensitivities = scipy.io.loadmat(os.path.join(data_path, 'dWFE_sensitivities_LEC.mat'))\n",
    "\n",
    "# seg1_hexike_coeffs = (sensitivities['hfit_all'][:, :, 0])\n",
    "# seg2_hexike_coeffs = (sensitivities['hfit_all'][:, :, 1])   # segn = (mat['hfit_all'][:, :, n])\n",
    "\n",
    "#np.savetxt(\"/Users/asahoo/Downloads/seg1.csv\", seg1, delimiter=\",\")"
   ]
  },
  {
   "cell_type": "markdown",
   "id": "81922d55",
   "metadata": {},
   "source": [
    "#### Intantiate the LUVOIR A telescope simulator"
   ]
  },
  {
   "cell_type": "code",
   "execution_count": null,
   "id": "57300b05",
   "metadata": {},
   "outputs": [],
   "source": [
    "# optics_input = os.path.join(util.find_repo_location(), CONFIG_PASTIS.get('LUVOIR', 'optics_path_in_repo'))\n",
    "# sampling = CONFIG_PASTIS.getfloat('LUVOIR', 'sampling')\n",
    "# tel = LuvoirA_APLC(optics_input, 'small', sampling)"
   ]
  },
  {
   "cell_type": "markdown",
   "id": "5aab6e21",
   "metadata": {},
   "source": [
    "#### The following line takes ~5 minutes to execute in local machine.  "
   ]
  },
  {
   "cell_type": "code",
   "execution_count": null,
   "id": "6a757830",
   "metadata": {},
   "outputs": [],
   "source": [
    "# n_zernikes = 11      # Set the total number of hexike polynomials you want over the hexagonal segment.\n",
    "# tel.create_segmented_mirror(n_zernikes) "
   ]
  },
  {
   "cell_type": "code",
   "execution_count": null,
   "id": "5b6b0575",
   "metadata": {},
   "outputs": [],
   "source": [
    "# unaberrated_coro_psf, ref = tel.calc_psf(ref=True, display_intermediate=False, norm_one_photon=True)\n",
    "# norm = np.max(ref)\n",
    "# dh_intensity = (unaberrated_coro_psf / norm) * tel.dh_mask\n",
    "# contrast_floor = np.mean(dh_intensity[np.where(tel.dh_mask != 0)])\n",
    "# print(f'static contrast floor for luvoirA small APLC design: {contrast_floor}')"
   ]
  },
  {
   "cell_type": "code",
   "execution_count": null,
   "id": "ff55a061",
   "metadata": {},
   "outputs": [],
   "source": [
    "# num_actuators = len(tel.sm.actuators) # ensure this to be equal to (total_segments) * (total_hexikes_per_segment)"
   ]
  },
  {
   "cell_type": "code",
   "execution_count": null,
   "id": "12e9b3e3",
   "metadata": {},
   "outputs": [],
   "source": [
    "# (tel.sm.actuators).shape"
   ]
  },
  {
   "cell_type": "code",
   "execution_count": null,
   "id": "b5e8c9ca",
   "metadata": {},
   "outputs": [],
   "source": [
    "# sensitivities_table = sensitivities['hfit_all']\n",
    "# luvoir_hexike_coeffs = []\n",
    "\n",
    "# #removing the outer_ring\n",
    "# for seg in range(0, 91):\n",
    "#     seg_hexike_coeffs = sensitivities['hfit_all'][:, :, seg]\n",
    "#     luvoir_hexike_coeffs.append(seg_hexike_coeffs)"
   ]
  },
  {
   "cell_type": "code",
   "execution_count": null,
   "id": "01ebbc91",
   "metadata": {},
   "outputs": [],
   "source": [
    "#sensitivities_table.shape\n",
    "# seg1_hexike_coeffs = (sensitivities['hfit_all'][:, :, 0])"
   ]
  },
  {
   "cell_type": "code",
   "execution_count": null,
   "id": "3adcda81",
   "metadata": {},
   "outputs": [],
   "source": [
    "# seg1_hexike_coeffs.shape\n",
    "# luvoir_hexike_coeffs[0][0][0]"
   ]
  },
  {
   "cell_type": "code",
   "execution_count": null,
   "id": "515700f7",
   "metadata": {},
   "outputs": [],
   "source": [
    "# Note, Hexikes are set according to Noll Convention.\n",
    "\n",
    "# tel.sm.flatten()\n",
    "# for seg in range(0, 91):\n",
    "#     for hexike in range(0, n_zernikes):\n",
    "#         tel.sm.actuators[hexike + seg * n_zernikes] = (luvoir_hexike_coeffs[seg][2][hexike])*1e-12\n",
    "        \n",
    "\n",
    "# aberrated_coro_psf, efields_inter = tel.calc_psf(display_intermediate=False,return_intermediate='efield', norm_one_photon=True)"
   ]
  },
  {
   "cell_type": "code",
   "execution_count": null,
   "id": "6b25404e",
   "metadata": {},
   "outputs": [],
   "source": [
    "# plt.figure()\n",
    "# hcipy.imshow_field((efields_inter['seg_mirror']).phase, mask = tel.aperture, cmap='jet', vmin=-1e-4, vmax=0.0)\n",
    "# plt.colorbar()\n",
    "#plt.title('Segmented mirror phase)\n",
    "#plt.savefig(os.path.join(analysis_path, 'luvoir_drz.png'))"
   ]
  },
  {
   "cell_type": "markdown",
   "id": "c8421939",
   "metadata": {},
   "source": [
    "## For SCDA 2hex Simulator"
   ]
  },
  {
   "cell_type": "markdown",
   "id": "45a10a79",
   "metadata": {},
   "source": [
    "#### Instantiate the 2hex simulator."
   ]
  },
  {
   "cell_type": "code",
   "execution_count": null,
   "id": "ffe16855",
   "metadata": {},
   "outputs": [],
   "source": [
    "optics_dir = os.path.join(util.find_repo_location(), 'data', 'SCDA')\n",
    "NUM_RINGS = 2\n",
    "sampling = 4\n",
    "\n",
    "tel2 = HexRingAPLC(optics_dir, NUM_RINGS, sampling)\n",
    "\n",
    "unaberrated_psf, ref, intermediates = tel2.calc_psf(ref=True, display_intermediate=True, \n",
    "                                  return_intermediate='intensity',\n",
    "                                  norm_one_photon=True)\n",
    "\n",
    "norm = np.max(ref)\n",
    "normalized_unaberrated_psf = unaberrated_psf / norm\n",
    "\n",
    "unaberr_roi = normalized_unaberrated_psf * tel2.dh_mask\n",
    "contrast_floor = np.mean(unaberr_roi[np.where(tel2.dh_mask != 0)])\n",
    "print(\"contrast_floor:\", contrast_floor)"
   ]
  },
  {
   "cell_type": "code",
   "execution_count": null,
   "id": "0171c025",
   "metadata": {},
   "outputs": [],
   "source": [
    "print(normalized_unaberrated_psf[5001], \"\\n\")\n",
    "print(unaberr_roi[5001])\n",
    "print(tel2.wvln)"
   ]
  },
  {
   "cell_type": "code",
   "execution_count": null,
   "id": "e1da9762",
   "metadata": {},
   "outputs": [],
   "source": []
  },
  {
   "cell_type": "markdown",
   "id": "47d859c7",
   "metadata": {},
   "source": [
    "### Plot contrast as a function of the radius."
   ]
  },
  {
   "cell_type": "code",
   "execution_count": null,
   "id": "bf7cd8d3",
   "metadata": {},
   "outputs": [],
   "source": [
    "grid =  hcipy.make_uniform_grid([115, 115], 115/2, center=115/2)\n",
    "\n",
    "img_field1 = hcipy.Field(normalized_unaberrated_psf.shaped, grid)\n",
    "\n",
    "plt.figure(figsize = (12, 5))\n",
    "\n",
    "r1, profile1, _, _ = hcipy.radial_profile(img_field1, 1, statistic = 'mean')\n",
    "plt.plot(r1, np.log10(profile1))\n",
    "\n",
    "\n",
    "plt.show()"
   ]
  },
  {
   "cell_type": "code",
   "execution_count": null,
   "id": "832868e5",
   "metadata": {
    "scrolled": false
   },
   "outputs": [],
   "source": [
    "# grid =  hcipy.make_uniform_grid([115, 115], 100/2, center=115/2)\n",
    "\n",
    "# #img1 = np.reshape()\n",
    "\n",
    "# img_field1 = hcipy.Field(normalized_unaberrated_psf, grid)\n",
    "# img_field2 = hcipy.Field(unaberr_roi, grid)\n",
    "\n",
    "# plt.figure(figsize = (12, 5))\n",
    "\n",
    "# plt.subplot(1, 2, 1)\n",
    "# r1, profile1, _, _ = hcipy.radial_profile(img_field1, 1, statistic = 'mean')\n",
    "# # plt.xlim(55, 105)\n",
    "# # plt.ylim(0, 1e-10)\n",
    "# plt.plot(r1, np.log10(profile1))\n",
    "\n",
    "\n",
    "# plt.subplot(1, 2, 2)\n",
    "# r2, profile2, _, _ = hcipy.radial_profile(img_field2, 1, statistic = 'mean')\n",
    "# plt.plot(r2, np.log10(profile2))\n",
    "# #plt.ylim(0, 1e-10)\n",
    "# #plt.xlim(55, 105)\n",
    "\n",
    "# plt.show()"
   ]
  },
  {
   "cell_type": "markdown",
   "id": "fc2335a3",
   "metadata": {},
   "source": [
    "#### Load HWO sensitivities .mat file"
   ]
  },
  {
   "cell_type": "code",
   "execution_count": null,
   "id": "5aeab1b0",
   "metadata": {},
   "outputs": [],
   "source": [
    "hwo_sensitivities = scipy.io.loadmat(os.path.join(data_path, 'HWO_sens_old.mat'))\n",
    "hwo_table = hwo_sensitivities['HWO_sens']\n",
    "first_element = hwo_table[0,0]\n",
    "data_list = first_element.tolist()  # tuple of length 4"
   ]
  },
  {
   "cell_type": "code",
   "execution_count": null,
   "id": "2e015013",
   "metadata": {},
   "outputs": [],
   "source": [
    "hwo_hexike_coeffs = data_list[0]  # ndarray of shape (11, 19, 6)\n",
    "mask = data_list[1]    # ndarray of shape (256, 256, 19, 6)\n",
    "dopd = data_list[2]    # ndarray of shape (256, 256, 19, 6)\n",
    "units = data_list[3]   # ndarray of shape (1,) where the only element is a string"
   ]
  },
  {
   "cell_type": "markdown",
   "id": "a31c822a",
   "metadata": {},
   "source": [
    "#### Locate segment number using mask data"
   ]
  },
  {
   "cell_type": "code",
   "execution_count": null,
   "id": "063fe6ea",
   "metadata": {},
   "outputs": [],
   "source": [
    "seg = 15 # starts with 0 till 18\n",
    "dof = 5 # starts with 0 till 5\n",
    "\n",
    "plt.figure(figsize=(8, 3))\n",
    "plt.subplot(1, 2, 1)\n",
    "plt.title(\"mask\")\n",
    "plt.imshow(mask[:, :, seg, dof])\n",
    "plt.colorbar()\n",
    "\n",
    "plt.subplot(1, 2, 2)\n",
    "plt.title(\"dopd\")\n",
    "plt.imshow(dopd[:, :, seg, dof], cmap='jet')\n",
    "plt.colorbar()"
   ]
  },
  {
   "cell_type": "markdown",
   "id": "6a27b005",
   "metadata": {},
   "source": [
    "#### Plot surface maps using the opd data only"
   ]
  },
  {
   "cell_type": "code",
   "execution_count": null,
   "id": "6e2bcebe",
   "metadata": {
    "scrolled": false
   },
   "outputs": [],
   "source": [
    "dopds = []\n",
    "\n",
    "for dof in range(0, dopd.shape[3]):\n",
    "    full_dopd = np.zeros((dopd.shape[1], dopd.shape[1]))\n",
    "    for seg in range(0, dopd.shape[2]):\n",
    "        opd_per_segment = dopd[:, :, seg, dof]\n",
    "        full_dopd = opd_per_segment + full_dopd\n",
    "        \n",
    "    dopds.append(full_dopd)\n",
    "    \n",
    "titles = np.array([\"X nm RMS/um\", \"Y nm RMS/um\", \"Z nm RMS/um\", \n",
    "                  \"Rx nm RMS/urad\", \"Ry nm RMS/urad\", \"Rz nm RMS/urad\" ])\n",
    "        \n",
    "plt.figure(figsize = (10, 5))\n",
    "for dof in range(0, len(dopds)):\n",
    "    if dof!=2:\n",
    "        plt.subplot(2, 3, dof+1)\n",
    "        plt.title(titles[dof], fontweight = 'bold', fontsize= 7)\n",
    "        plt.imshow(dopds[dof], cmap='jet')\n",
    "        plt.tick_params(top=False, bottom=True, left=True, right=False, labelleft=True, labelbottom=True, labelsize=7)\n",
    "        cbar = plt.colorbar()\n",
    "        cbar.ax.tick_params(labelsize=10)\n",
    "\n",
    "plt.subplot(2, 3, 3)\n",
    "plt.title(\"Z nm RMS/um\", fontweight = 'bold', fontsize=10)\n",
    "plt.imshow(dopds[2], cmap='jet', vmin=-2000, vmax= -1966)\n",
    "plt.tick_params(top=False, bottom=True, left=True, right=False, labelleft=True, labelbottom=True, labelsize=7)\n",
    "cbar = plt.colorbar()\n",
    "cbar.ax.tick_params(labelsize=7)\n",
    "\n",
    "plt.tight_layout()\n",
    "#plt.savefig(os.path.join(analysis_path, 'hwo_dopds_PTT.png'))"
   ]
  },
  {
   "cell_type": "code",
   "execution_count": null,
   "id": "97146135",
   "metadata": {
    "scrolled": false
   },
   "outputs": [],
   "source": [
    "#do not understand why they sent me multiple masks, \n",
    "#I plotted all the masks per dof, subtracted two masks to check if there is some mismatch between dofs, \n",
    "#they are identical to 1e-30 scientific precision.\n",
    "\n",
    "masks = []\n",
    "\n",
    "for dof in range(0, mask.shape[3]):\n",
    "    full_mask = np.zeros((mask.shape[1], mask.shape[1]))\n",
    "    for seg in range(0, mask.shape[2]):\n",
    "        mask_per_segment = mask[:, :, seg, dof]\n",
    "        full_mask = mask_per_segment + full_mask\n",
    "        \n",
    "    masks.append(full_mask)\n",
    "    \n",
    "titles = np.array([\"mask (X nm RMS/um)\", \"mask (Y nm RMS/um)\", \"mask (Z nm RMS/um)\", \n",
    "                  \"mask (Rx nm RMS/urad)\", \"mask (Ry nm RMS/urad)\", \"mask (Rz nm RMS/urad)\"])\n",
    "    \n",
    "plt.figure(figsize = (14, 7))\n",
    "for dof in range(0, len(dopds)):\n",
    "    plt.subplot(2, 3, dof+1)\n",
    "    plt.title(titles[dof], fontweight = 'bold')\n",
    "    plt.imshow(masks[dof], cmap='jet')\n",
    "    plt.colorbar()"
   ]
  },
  {
   "cell_type": "code",
   "execution_count": null,
   "id": "cc9928e6",
   "metadata": {
    "scrolled": true
   },
   "outputs": [],
   "source": [
    "dopds = np.array(dopds)\n",
    "masks = np.array(masks)\n",
    "\n",
    "titles = np.array([\"X nm RMS/um\", \"Y nm RMS/um\", \"Z nm RMS/um\", \n",
    "                  \"Rx nm RMS/urad\", \"Ry nm RMS/urad\", \"Rz nm RMS/urad\" ])\n",
    "\n",
    "for dof in range(0, len(dopds)):\n",
    "    rms = np.sqrt((np.mean(dopds[dof][np.where(masks[dof]!= 0)]**2)))\n",
    "    print(titles[dof],\"----\", rms)"
   ]
  },
  {
   "cell_type": "markdown",
   "id": "6a83ea48",
   "metadata": {},
   "source": [
    "### Map HWO segment number to the SCDA segment number:"
   ]
  },
  {
   "cell_type": "code",
   "execution_count": null,
   "id": "04311ecc",
   "metadata": {},
   "outputs": [],
   "source": [
    "hwo_to_scda_L = {\"1\": 4, \"2\": 3, \"3\": 2, \"4\":7, \"5\":6, \"6\":5, \"7\":12, \"8\":11, \"9\":10, \"10\":9,\n",
    "               \"11\": 8, \"12\":19, \"13\":18, \"14\":17, \"15\":16, \"16\":15, \"17\":14, \"18\":13, \"19\":1}"
   ]
  },
  {
   "cell_type": "code",
   "execution_count": null,
   "id": "85c09980",
   "metadata": {},
   "outputs": [],
   "source": [
    "hwo_to_scda = {\"1\": 4, \"2\": 5, \"3\": 6, \"4\":7, \"5\":2, \"6\":3, \"7\":12, \"8\":13, \"9\":14, \"10\":15,\n",
    "               \"11\": 16, \"12\":17, \"13\":18, \"14\":19, \"15\":8, \"16\":9, \"17\":10, \"18\":11, \"19\":1}\n",
    "\n",
    "hwo_scda_segments = np.array([4, 5, 6, 7, 2, 3, 12, 13, 14, 15, 16, 17, 18, 19, 8, 9, 10, 11, 1])"
   ]
  },
  {
   "cell_type": "code",
   "execution_count": null,
   "id": "0b534ace",
   "metadata": {
    "scrolled": false
   },
   "outputs": [],
   "source": [
    "seg1_table = hwo_hexike_coeffs[:, 12, :].T\n",
    "\n",
    "plt.figure(figsize = (15, 5))\n",
    "plt.subplot(1, 2, 1)\n",
    "plt.imshow((seg1_table))\n",
    "plt.ylabel('DOF freedom')\n",
    "plt.xlabel('Zernike coefficients')\n",
    "plt.colorbar()\n",
    "\n",
    "plt.subplot(1, 2, 2)\n",
    "plt.plot(np.arange(1, 12, 1), seg1_table[0, :], label = 'for x')\n",
    "# plt.plot(np.arange(1, 12, 1), seg1_table[1, :], label = 'for y')\n",
    "# plt.plot(np.arange(1, 12, 1), seg1_table[2, :], label = 'for z')\n",
    "# plt.plot(np.arange(1, 12, 1), seg1_table[3, :], label = 'for rx')\n",
    "# plt.plot(np.arange(1, 12, 1), seg1_table[4, :], label = 'for ry')\n",
    "# plt.plot(np.arange(1, 12, 1), seg1_table[5, :], label = 'for rz')\n",
    "plt.ylabel('coefficients')\n",
    "plt.xlabel('Zernike mode')\n",
    "#plt.ylim(-1, 0)\n",
    "plt.colorbar()\n",
    "plt.legend()\n",
    "\n"
   ]
  },
  {
   "cell_type": "code",
   "execution_count": null,
   "id": "7be6542a",
   "metadata": {},
   "outputs": [],
   "source": [
    "print(\"Piston\", \"Tip\", \"Tilt\")\n",
    "print((seg1_table[0, 0:3]))\n",
    "print((seg1_table[1, 0:3]))\n",
    "print((seg1_table[2, 0:3]))\n",
    "print((seg1_table[3, 0:3]))\n",
    "print((seg1_table[4, 0:3]))\n",
    "print((seg1_table[5, 0:3]))"
   ]
  },
  {
   "cell_type": "code",
   "execution_count": null,
   "id": "224aa921",
   "metadata": {},
   "outputs": [],
   "source": [
    "segs_tables = []\n",
    "for seg in range(0, 19):\n",
    "    seg_table = hwo_hexike_coeffs[:, seg, :].T\n",
    "    segs_tables.append(seg_table)"
   ]
  },
  {
   "cell_type": "code",
   "execution_count": null,
   "id": "b107afa7",
   "metadata": {},
   "outputs": [],
   "source": [
    "n_zernikes = 11      # Set the total number of hexike polynomials you want over the hexagonal segment.\n",
    "tel2.create_segmented_mirror(n_zernikes)"
   ]
  },
  {
   "cell_type": "code",
   "execution_count": null,
   "id": "6a350e67",
   "metadata": {},
   "outputs": [],
   "source": [
    "psf_2d = np.array(np.reshape(normalized_unaberrated_psf, (115, 115)))\n",
    "\n",
    "#fits.writeto((os.path.join(analysis_path, 'ideal_psf.fits')), np.reshape(ref, (115, 115)))\n",
    "# ideal_psf = np.reshape(ref, [115,115])\n",
    "\n",
    "####tel2.sampling pixels = l/d\n",
    "\n",
    "# ind_max = np.unravel_index(np.argmax(np.abs(ideal_psf), axis=None), np.abs(ideal_psf).shape)\n",
    "# for i in range(0,135,20):\n",
    "#     print(i, (i-ind_max[0])*(1/tel2.sampling)) \n",
    "    \n",
    "x_pixels = [0, 20 ,40, 60, 80, 100]\n",
    "x_ld = [r\"-14.25$\\lambda/D$\",r\"-9.25$\\lambda/D$\", r\"-4.25$\\lambda/D$\", r\"0.75$\\lambda/D$\",\n",
    "        r\"5.75$\\lambda/D$\", r\"10.75$\\lambda/D$\"]\n",
    "\n",
    "plt.figure(figsize = (20, 5))\n",
    "\n",
    "plt.subplot(1, 3, 1)\n",
    "plt.title(\"Mirror surface\")\n",
    "hcipy.imshow_field(tel2.sm.surface*1e9, mask=tel2.aperture, cmap='RdBu')\n",
    "cbar = plt.colorbar()\n",
    "plt.xlabel(\"in m\")\n",
    "plt.ylabel(\"in m\")\n",
    "cbar.set_label(\"in nm\", loc='center')\n",
    "\n",
    "plt.subplot(1, 3, 2)\n",
    "plt.imshow(np.log10(psf_2d), origin='lower', cmap= 'inferno')\n",
    "plt.title(\"Coronagraphic PSF incase of \\n Hexike-coefficients set to Zero.\")\n",
    "plt.xticks(x_pixels, x_ld, fontsize = 8)\n",
    "plt.yticks(x_pixels, x_ld, fontsize = 8)\n",
    "plt.xlabel(r\"Angular Separation $(\\lambda/D)$\")\n",
    "plt.ylabel(r\"Angular Separation $(\\lambda/D)$\")\n",
    "plt.colorbar()\n",
    "\n",
    "\n",
    "plt.subplot(1, 3, 3)\n",
    "#plt.plot(np.arange(0, 115, 1), np.log10(psf_2d[:, 56]), label='x')\n",
    "plt.title(\"Intensity vs Radius\")\n",
    "plt.plot(np.arange(0, 115, 1), np.log10(psf_2d[56, :]))\n",
    "plt.xlabel(r\"Angular Separation $(\\lambda/D)$\")\n",
    "plt.ylabel(\"Normalized Irradiance (log scale)\")\n",
    "plt.xticks(x_pixels, x_ld, fontsize = 8)\n",
    "plt.tight_layout()\n",
    "#plt.show()\n",
    "#plt.savefig(os.path.join(analysis_path, 'zero_dm.png'))"
   ]
  },
  {
   "cell_type": "code",
   "execution_count": null,
   "id": "ec9710ec",
   "metadata": {},
   "outputs": [],
   "source": [
    "np.sqrt((tel2.sm.surface).shape)"
   ]
  },
  {
   "cell_type": "code",
   "execution_count": null,
   "id": "2a5c1907",
   "metadata": {},
   "outputs": [],
   "source": [
    "# tel2.sm.flatten()\n",
    "# fits.writeto(os.path.join(analysis_path, 'pupil2hex_scda.fits'), (tel2.sm.surface).shaped)"
   ]
  },
  {
   "cell_type": "code",
   "execution_count": null,
   "id": "e59667b4",
   "metadata": {
    "scrolled": false
   },
   "outputs": [],
   "source": [
    "plt.figure(figsize = (14, 10))\n",
    "plt.title(\"Zernike Coefficients ordering in PASTIS tel simulator\")\n",
    "for z in range(0, 11):\n",
    "    tel2.sm.flatten()\n",
    "    tel2.sm.actuators[z] = 1e-9\n",
    "\n",
    "    plt.subplot(3, 4, int(z+1))\n",
    "    plt.title(f\"Z{z}\", fontweight = 'bold')\n",
    "    hcipy.imshow_field(tel2.sm.surface, cmap='jet')\n",
    "    cbar = plt.colorbar()\n",
    "    cbar.set_label(\"in m\", loc='center')"
   ]
  },
  {
   "cell_type": "code",
   "execution_count": null,
   "id": "eb6f28a9",
   "metadata": {
    "scrolled": false
   },
   "outputs": [],
   "source": [
    "tel2.sm.flatten()\n",
    "\n",
    "# multiply by 1/2 ?\n",
    "tel2_surfaces = []\n",
    "for dof in range(0, 6):\n",
    "    tel2.sm.flatten()\n",
    "    for hwo_seg in range(0, tel2.nseg):\n",
    "        for hexike in range(0, n_zernikes):\n",
    "            scda_seg = hwo_to_scda[str(hwo_seg + 1)] - 1\n",
    "            tel2.sm.actuators[hexike + scda_seg * n_zernikes] = 0.5 * segs_tables[hwo_seg][dof][hexike] * 1e-9\n",
    "    \n",
    "    tel2_surfaces.append(tel2.sm.surface)\n",
    "                      \n",
    "\n",
    "titles = np.array([\"X nm RMS/um\", \"Y nm RMS/um\", \"Z nm RMS/um\", \n",
    "                  \"Rx nm RMS/urad\", \"Ry nm RMS/urad\", \"Rz nm RMS/urad\" ])\n",
    "        \n",
    "plt.figure(figsize = (14, 7))\n",
    "plt.suptitle(\"Without sorting or changing sign of any Zernike mode\", fontweight = 'bold', fontsize=20)\n",
    "for dof in range(0, 6):\n",
    "    if dof!=2:\n",
    "        plt.subplot(2, 3, dof+1)\n",
    "        plt.title(titles[dof], fontweight = 'bold')\n",
    "        hcipy.imshow_field(tel2_surfaces[dof]*1e9, cmap='jet')\n",
    "        cbar = plt.colorbar()\n",
    "        cbar.set_label(\"in nm\", loc='center')\n",
    "\n",
    "plt.subplot(2, 3, 3)\n",
    "plt.title(\"Z nm RMS/um\", fontweight = 'bold')\n",
    "hcipy.imshow_field(tel2_surfaces[2]*1e9, cmap='jet', vmin = -2000*1*0.5,  vmax= -1960*1*0.5)\n",
    "cbar = plt.colorbar()\n",
    "cbar.set_label(\"in nm\", loc='center')  \n",
    "\n",
    "plt.savefig(os.path.join(analysis_path, 'hwo_PTT.png'))\n",
    "\n",
    "# aberrated_coro_psf2, efields_inter2 = tel2.calc_psf(display_intermediate=True, \n",
    "#                                                     return_intermediate='efield', \n",
    "#                                                     norm_one_photon=True)\n"
   ]
  },
  {
   "cell_type": "markdown",
   "id": "f32a474e",
   "metadata": {},
   "source": [
    "#### Sorting Zernike coefficients"
   ]
  },
  {
   "cell_type": "code",
   "execution_count": null,
   "id": "58603247",
   "metadata": {
    "scrolled": false
   },
   "outputs": [],
   "source": [
    "tel2.sm.flatten()\n",
    "\n",
    "tel2_surfaces_sorted = []\n",
    "tel2_actuators = []\n",
    "for dof in range(0, 6):\n",
    "    tel2.sm.flatten()\n",
    "    for hwo_seg in range(0, tel2.nseg): \n",
    "        for hexike in range(0, n_zernikes):\n",
    "            scda_seg = hwo_to_scda[str(hwo_seg + 1)] - 1\n",
    "            if hexike == 0:\n",
    "                hexn = 0\n",
    "                sign = 2\n",
    "            elif hexike == 1:\n",
    "                hexn = 1\n",
    "                sign = 1\n",
    "            elif hexike == 2:\n",
    "                hexn = 2\n",
    "                sign = -1\n",
    "            elif hexike == 3:\n",
    "                hexn = 3\n",
    "                sign = 1\n",
    "            elif hexike == 4:\n",
    "                hexn = 5\n",
    "                sign = -1\n",
    "            elif hexike == 5:\n",
    "                hexn = 4\n",
    "                sign = 1\n",
    "            elif hexike == 6:\n",
    "                hexn = 7\n",
    "                sign = 1\n",
    "            elif hexike == 7:\n",
    "                hexn = 6\n",
    "                sign = 1\n",
    "            elif hexike == 8:\n",
    "                hexn = 10\n",
    "                sign = 1\n",
    "            elif hexike == 9:\n",
    "                hexn = 9\n",
    "                sign = 1\n",
    "            elif hexike == 10:\n",
    "                hexn = 8\n",
    "                sign = 1\n",
    "            else:\n",
    "                hexn = hexike\n",
    "                sign = 1\n",
    "            tel2.sm.actuators[hexike + scda_seg * n_zernikes] = 0.5 * 1 * sign * segs_tables[hwo_seg][dof][hexn] * 1e-9 \n",
    "            \n",
    "    tel2_surfaces_sorted.append(tel2.sm.surface)\n",
    "    tel2_actuators.append(tel2.sm.actuators)"
   ]
  },
  {
   "cell_type": "code",
   "execution_count": null,
   "id": "7d2bb129",
   "metadata": {
    "scrolled": false
   },
   "outputs": [],
   "source": [
    "titles = np.array([\"X nm RMS/um\", \"Y nm RMS/um\", \"Z nm RMS/um\", \n",
    "                  \"Rx nm RMS/urad\", \"Ry nm RMS/urad\", \"Rz nm RMS/urad\" ])\n",
    "        \n",
    "plt.figure(figsize = (14, 9))\n",
    "#plt.suptitle(\"After sorting and flipping sign of some Zernike mode\", fontweight = 'bold', fontsize=20)\n",
    "for dof in range(0, 6):\n",
    "    if dof!=2:\n",
    "        rms_scda = np.sqrt(np.mean((tel2_surfaces_sorted[dof][np.where(tel2.aperture!= 0)])**2)) * 1e9\n",
    "        plt.subplot(2, 3, dof+1)\n",
    "        plt.title(titles[dof], fontweight = 'bold')\n",
    "        hcipy.imshow_field(tel2_surfaces_sorted[dof]*1e9, cmap='jet')\n",
    "        plt.xlabel(f'RMS: {rms_scda:.2f} nm')\n",
    "        cbar = plt.colorbar()\n",
    "        cbar.set_label(\"in nm\", loc='center')\n",
    "\n",
    "plt.subplot(2, 3, 3)\n",
    "rms_scda = np.sqrt(np.mean((tel2_surfaces_sorted[2][np.where(tel2.aperture!= 0)])**2)) * 1e9\n",
    "plt.title(\"Z nm RMS/um\", fontweight = 'bold')\n",
    "hcipy.imshow_field(tel2_surfaces_sorted[2]*1e9, cmap='jet', vmin = -2000 * 0.5 *2 ,  vmax= -1960* 0.5 *2)\n",
    "plt.xlabel(f\"RMS: {rms_scda:.2f} nm\")\n",
    "cbar = plt.colorbar()\n",
    "cbar.set_label(\"in nm\", loc='center')\n",
    "#plt.savefig(os.path.join(analysis_path, 'hwo_PTT_sorted.png'))"
   ]
  },
  {
   "cell_type": "markdown",
   "id": "2a7a5c2f",
   "metadata": {},
   "source": [
    "### Propagate opds through the simulator. "
   ]
  },
  {
   "cell_type": "code",
   "execution_count": null,
   "id": "1901bc99",
   "metadata": {},
   "outputs": [],
   "source": [
    "dx0 = input_misalignments[:, 0] * 1e12 # in units of pm. \n",
    "dx0 = np.delete(dx0, -1)\n",
    "print(dx0, \"\\n\")\n",
    "\n",
    "dx1 = input_misalignments[:, 6] * 1e12\n",
    "dx1 = np.delete(dx1, -1)\n",
    "\n",
    "print(dx1, \"\\n\")\n",
    "\n",
    "\n",
    "dx2 = input_misalignments[:, 12] * 1e12\n",
    "dx2 = np.delete(dx2, -1)\n",
    "\n",
    "print(dx2, \"\\n\")\n",
    "\n",
    "dx3 = input_misalignments[:, 18] * 1e12\n",
    "dx3 = np.delete(dx3, -1)\n",
    "\n",
    "print(dx3, \"\\n\")\n",
    "\n",
    "dx400 = input_misalignments[:, 400*6] * 1e12\n",
    "dx400 = np.delete(dx400, -1)\n",
    "\n",
    "print(dx400, \"\\n\")"
   ]
  },
  {
   "cell_type": "code",
   "execution_count": null,
   "id": "3cdd481d",
   "metadata": {
    "scrolled": false
   },
   "outputs": [],
   "source": [
    "# dx0[3] = 145\n",
    "# print(dx0)"
   ]
  },
  {
   "cell_type": "code",
   "execution_count": null,
   "id": "9872cdbd",
   "metadata": {},
   "outputs": [],
   "source": [
    "tel2.sm.flatten()\n",
    "\n",
    "for hwo_seg in range(0, tel2.nseg):\n",
    "    scda_seg = hwo_to_scda[str(hwo_seg + 1)] - 1\n",
    "    for hexike in range(0, n_zernikes):\n",
    "        #print(hwo_seg, scda_seg,  hexike + scda_seg * n_zernikes,)\n",
    "        tel2.sm.actuators[hexike + scda_seg * n_zernikes] = 0.5 * tel2_actuators[0][hexike + scda_seg * n_zernikes] * dx1[hwo_seg] * 1e-6\n",
    "\n",
    "# #tel2.sm.flatten()\n",
    "\n",
    "# plt.figure()\n",
    "# hcipy.imshow_field(tel2.sm.surface*1e9, cmap='jet')\n",
    "# cbar = plt.colorbar()\n",
    "# cbar.set_label(\"in nm\", loc='center')\n",
    "# plt.show()\n",
    "\n",
    "aberrated_psf, ref, intermediates = tel2.calc_psf(ref=True, display_intermediate=False, \n",
    "                                  return_intermediate='intensity',\n",
    "                                  norm_one_photon=True)\n",
    "\n",
    "normalized_aberrated_psf = aberrated_psf / norm\n",
    "\n",
    "aberr_roi = normalized_aberrated_psf * tel2.dh_mask\n",
    "aber_contrast_floor = np.mean(aberr_roi[np.where(tel2.dh_mask != 0)])\n",
    "print(\"contrast_floor:\", aber_contrast_floor)\n",
    "\n",
    "fpm_mask = np.zeros(len(intermediates['after_fpm']))\n",
    "\n",
    "for i in range(0, len(intermediates['after_fpm'])):\n",
    "    if intermediates['after_fpm'][i] == 0.0:\n",
    "        fpm_mask[i] = 0\n",
    "    else:\n",
    "        fpm_mask[i] = 1\n",
    "\n",
    "plt.figure(figsize = (13, 7))\n",
    "\n",
    "# Mirror surface\n",
    "plt.subplot(2, 3, 1)\n",
    "plt.title(\"Surface\")\n",
    "hcipy.imshow_field((tel2.sm.surface*1e9), mask=tel2.aperture, cmap='inferno')\n",
    "cbar = plt.colorbar()\n",
    "cbar.set_label(\"in nm\", loc='center')\n",
    "plt.xlabel(\"in m\")\n",
    "plt.tick_params(bottom=True, left=True, labelleft=True, labelbottom=True)\n",
    "\n",
    "# Entrance pupil\n",
    "plt.subplot(2, 3, 2)\n",
    "plt.title(\"Apodizer plane\")\n",
    "hcipy.imshow_field(tel2.sm.surface*1e9, mask= tel2.apodizer, cmap='inferno')\n",
    "plt.xlabel(\"in m\")\n",
    "cbar = plt.colorbar()\n",
    "cbar.set_label(\"in nm\", loc='center')\n",
    "\n",
    "plt.tick_params(bottom=True, left=True, labelleft=True, labelbottom=True)\n",
    "\n",
    "# before FPM\n",
    "plt.subplot(2, 3, 3)\n",
    "plt.title(\"Before FPM\")\n",
    "hcipy.imshow_field(intermediates['before_fpm'], \n",
    "                   norm=LogNorm(vmin=1e-8, vmax=1e-1), cmap='inferno')\n",
    "plt.xlabel(r\"in $\\lambda/D$\")\n",
    "plt.tick_params(bottom=True, left=True, labelleft=True, labelbottom=True)\n",
    "plt.colorbar()\n",
    "\n",
    "# after FPM, note: calc_psf returns int_after_fpm in log scale.\n",
    "plt.subplot(2, 3, 4)\n",
    "plt.title(\"After FPM\")\n",
    "plt.xlabel(r\"in $\\lambda/D$\")\n",
    "hcipy.imshow_field(10**(intermediates['after_fpm']), \n",
    "                   norm=LogNorm(vmin=1e-8, vmax=1e-1),mask = fpm_mask, cmap= 'inferno')\n",
    "plt.tick_params(bottom=True, left=True, labelleft=True, labelbottom=True)\n",
    "plt.colorbar()\n",
    "\n",
    "\n",
    "# after Lyot Stop\n",
    "plt.subplot(2, 3, 5)\n",
    "plt.title(\"After Lyot stop\")\n",
    "hcipy.imshow_field(intermediates['after_lyot'], mask=tel2.lyotstop, norm=LogNorm(vmin=1e-3, vmax=1),\n",
    "                   cmap='inferno')\n",
    "plt.xlabel(\"in m\")\n",
    "plt.tick_params(bottom=True, left=True, labelleft=True, labelbottom=True)\n",
    "plt.colorbar()\n",
    "\n",
    "# final PSF\n",
    "plt.subplot(2, 3, 6)\n",
    "plt.title(\"Coronagraphic PSF\")\n",
    "hcipy.imshow_field(aberrated_psf, norm=LogNorm(vmin=1e-14, vmax=1e-3), cmap='inferno')\n",
    "plt.xlabel(r\"in $\\lambda/D$\")\n",
    "plt.tick_params(bottom=True, left=True, labelleft=True, labelbottom=True)\n",
    "plt.colorbar()\n",
    "\n",
    "plt.tight_layout()\n",
    "plt.savefig(os.path.join(analysis_path, 'dx1_open_loop.png'))"
   ]
  },
  {
   "cell_type": "code",
   "execution_count": null,
   "id": "3b4a55c7",
   "metadata": {
    "scrolled": true
   },
   "outputs": [],
   "source": [
    "tel2.sm.flatten()\n",
    "dx_times = []\n",
    "for time in range(0, 401):\n",
    "    dx = output_misalignments[:, time*6] * 1e12 # in units of pm. \n",
    "    dx = np.delete(dx, -1)\n",
    "    dx_times.append(dx)\n",
    "\n",
    "contrasts_dx = []\n",
    "for time in range(0, 401):\n",
    "    tel2.sm.flatten()\n",
    "    for hwo_seg in range(0, tel2.nseg):\n",
    "        scda_seg = hwo_to_scda[str(hwo_seg + 1)] - 1\n",
    "        for hexike in range(0, n_zernikes):\n",
    "            tel2.sm.actuators[hexike + scda_seg * n_zernikes] = 0.5 * tel2_actuators[0][hexike + scda_seg * n_zernikes] * dx_times[time][hwo_seg] * 1e-6\n",
    "\n",
    "    aberrated_psf, ref, intermediates = tel2.calc_psf(ref=True, display_intermediate=False, return_intermediate='intensity',norm_one_photon=True)\n",
    "    normalized_aberrated_psf = aberrated_psf / norm\n",
    "    aberr_roi = normalized_aberrated_psf * tel2.dh_mask\n",
    "    aber_contrast_floor = np.mean(aberr_roi[np.where(tel2.dh_mask != 0)])\n",
    "    contrasts_dx.append(aber_contrast_floor)\n",
    "    print(\"contrast_floor:\", aber_contrast_floor)"
   ]
  },
  {
   "cell_type": "code",
   "execution_count": null,
   "id": "f8a562f8",
   "metadata": {
    "scrolled": false
   },
   "outputs": [],
   "source": [
    "plt.figure()\n",
    "plt.plot(np.arange(0, 401, 1), contrasts_dx, label='dx DOF')\n",
    "plt.axhline(y=4.171337358217274e-11, color='r', linestyle='--', label='contrast_floor')\n",
    "plt.ylabel(\"Mean DH Contrast\")\n",
    "plt.xlabel(\"Time (in s)\")\n",
    "plt.legend()"
   ]
  },
  {
   "cell_type": "code",
   "execution_count": null,
   "id": "0c6a550b",
   "metadata": {
    "scrolled": true
   },
   "outputs": [],
   "source": [
    "tel2.sm.flatten()\n",
    "dy_times = []\n",
    "for time in range(0, 401):\n",
    "    dy = output_misalignments[:, time*6 + 1] * 1e12 # in units of pm. \n",
    "    dy = np.delete(dy, -1)\n",
    "    dy_times.append(dy)\n",
    "\n",
    "contrasts_dy = []\n",
    "for time in range(0, 401):\n",
    "    tel2.sm.flatten()\n",
    "    for hwo_seg in range(0, tel2.nseg):\n",
    "        scda_seg = hwo_to_scda[str(hwo_seg + 1)] - 1\n",
    "        for hexike in range(0, n_zernikes):\n",
    "            tel2.sm.actuators[hexike + scda_seg * n_zernikes] = 0.5 * tel2_actuators[0][hexike + scda_seg * n_zernikes] * dy_times[time][hwo_seg] * 1e-6\n",
    "\n",
    "    aberrated_psf, ref, intermediates = tel2.calc_psf(ref=True, display_intermediate=False, return_intermediate='intensity',norm_one_photon=True)\n",
    "    normalized_aberrated_psf = aberrated_psf / norm\n",
    "    aberr_roi = normalized_aberrated_psf * tel2.dh_mask\n",
    "    aber_contrast_floor = np.mean(aberr_roi[np.where(tel2.dh_mask != 0)])\n",
    "    contrasts_dy.append(aber_contrast_floor)\n",
    "    print(\"contrast_floor:\", aber_contrast_floor)"
   ]
  },
  {
   "cell_type": "code",
   "execution_count": null,
   "id": "d2fd5ace",
   "metadata": {},
   "outputs": [],
   "source": [
    "len(contrasts_dy)"
   ]
  },
  {
   "cell_type": "code",
   "execution_count": null,
   "id": "4b541217",
   "metadata": {},
   "outputs": [],
   "source": [
    "plt.figure()\n",
    "plt.plot(np.arange(0, 401, 1), contrasts_dx, label='dx DOF')\n",
    "plt.plot(np.arange(0, 401, 1), contrasts_dy, label='dy DOF')\n",
    "plt.axhline(y=4.171337358217274e-11, color='r', linestyle='--', label='contrast_floor')\n",
    "plt.ylabel(\"Mean DH Contrast\")\n",
    "plt.xlabel(\"Time (in s)\")\n",
    "plt.legend()"
   ]
  },
  {
   "cell_type": "code",
   "execution_count": null,
   "id": "2df81a8b",
   "metadata": {
    "scrolled": true
   },
   "outputs": [],
   "source": [
    "tel2.sm.flatten()\n",
    "dz_times = []\n",
    "for time in range(0, 401):\n",
    "    dz = output_misalignments[:, time*6 + 2] * 1e12 # in units of pm. \n",
    "    dz = np.delete(dz, -1)\n",
    "    dz_times.append(dz)\n",
    "\n",
    "contrasts_dz = []\n",
    "for time in range(0, 401):\n",
    "    tel2.sm.flatten()\n",
    "    for hwo_seg in range(0, tel2.nseg):\n",
    "        scda_seg = hwo_to_scda[str(hwo_seg + 1)] - 1\n",
    "        for hexike in range(0, n_zernikes):\n",
    "            tel2.sm.actuators[hexike + scda_seg * n_zernikes] = 0.5 * tel2_actuators[0][hexike + scda_seg * n_zernikes] * dz_times[time][hwo_seg] * 1e-6\n",
    "\n",
    "    aberrated_psf, ref, intermediates = tel2.calc_psf(ref=True, display_intermediate=False, return_intermediate='intensity',norm_one_photon=True)\n",
    "    normalized_aberrated_psf = aberrated_psf / norm\n",
    "    aberr_roi = normalized_aberrated_psf * tel2.dh_mask\n",
    "    aber_contrast_floor = np.mean(aberr_roi[np.where(tel2.dh_mask != 0)])\n",
    "    contrasts_dz.append(aber_contrast_floor)\n",
    "    print(\"contrast_floor:\", aber_contrast_floor)"
   ]
  },
  {
   "cell_type": "code",
   "execution_count": null,
   "id": "bad706b9",
   "metadata": {},
   "outputs": [],
   "source": []
  },
  {
   "cell_type": "code",
   "execution_count": null,
   "id": "3dd1845f",
   "metadata": {},
   "outputs": [],
   "source": []
  },
  {
   "cell_type": "code",
   "execution_count": null,
   "id": "1e16f58f",
   "metadata": {},
   "outputs": [],
   "source": [
    "tel2.sm.flatten()\n",
    "rdx_times = []\n",
    "for time in range(0, 401):\n",
    "    rdx = output_misalignments[:, time*6 + 3] * 1e12 # in units of pm. \n",
    "    rdx = np.delete(rdx, -1)\n",
    "    rdx_times.append(rdx)\n",
    "\n",
    "contrasts_rdx = []\n",
    "for time in range(0, 401):\n",
    "    tel2.sm.flatten()\n",
    "    for hwo_seg in range(0, tel2.nseg):\n",
    "        scda_seg = hwo_to_scda[str(hwo_seg + 1)] - 1\n",
    "        for hexike in range(0, n_zernikes):\n",
    "            tel2.sm.actuators[hexike + scda_seg * n_zernikes] = 0.5 * tel2_actuators[0][hexike + scda_seg * n_zernikes] * rdx_times[time][hwo_seg] * 1e-6\n",
    "\n",
    "    aberrated_psf, ref, intermediates = tel2.calc_psf(ref=True, display_intermediate=False, return_intermediate='intensity',norm_one_photon=True)\n",
    "    normalized_aberrated_psf = aberrated_psf / norm\n",
    "    aberr_roi = normalized_aberrated_psf * tel2.dh_mask\n",
    "    aber_contrast_floor = np.mean(aberr_roi[np.where(tel2.dh_mask != 0)])\n",
    "    contrasts_rdx.append(aber_contrast_floor)\n",
    "    print(\"contrast_floor:\", aber_contrast_floor)"
   ]
  },
  {
   "cell_type": "code",
   "execution_count": null,
   "id": "87ec30a3",
   "metadata": {},
   "outputs": [],
   "source": [
    "tel2.sm.flatten()\n",
    "rdy_times = []\n",
    "for time in range(0, 401):\n",
    "    rdy = output_misalignments[:, time*6 + 4] * 1e12 # in units of pm. \n",
    "    rdy = np.delete(rdy, -1)\n",
    "    rdy_times.append(rdy)\n",
    "\n",
    "contrasts_rdy = []\n",
    "for time in range(0, 401):\n",
    "    tel2.sm.flatten()\n",
    "    for hwo_seg in range(0, tel2.nseg):\n",
    "        scda_seg = hwo_to_scda[str(hwo_seg + 1)] - 1\n",
    "        for hexike in range(0, n_zernikes):\n",
    "            tel2.sm.actuators[hexike + scda_seg * n_zernikes] = 0.5 * tel2_actuators[0][hexike + scda_seg * n_zernikes] * rdy_times[time][hwo_seg] * 1e-6\n",
    "\n",
    "    aberrated_psf, ref, intermediates = tel2.calc_psf(ref=True, display_intermediate=False, return_intermediate='intensity',norm_one_photon=True)\n",
    "    normalized_aberrated_psf = aberrated_psf / norm\n",
    "    aberr_roi = normalized_aberrated_psf * tel2.dh_mask\n",
    "    aber_contrast_floor = np.mean(aberr_roi[np.where(tel2.dh_mask != 0)])\n",
    "    contrasts_rdy.append(aber_contrast_floor)\n",
    "    print(\"contrast_floor:\", aber_contrast_floor)"
   ]
  },
  {
   "cell_type": "code",
   "execution_count": null,
   "id": "fda4b41f",
   "metadata": {},
   "outputs": [],
   "source": [
    "tel2.sm.flatten()\n",
    "rdz_times = []\n",
    "for time in range(0, 401):\n",
    "    rdz = output_misalignments[:, time*6 + 5] * 1e12 # in units of pm. \n",
    "    rdz = np.delete(rdz, -1)\n",
    "    rdz_times.append(rdz)\n",
    "\n",
    "contrasts_rdz = []\n",
    "for time in range(0, 401):\n",
    "    tel2.sm.flatten()\n",
    "    for hwo_seg in range(0, tel2.nseg):\n",
    "        scda_seg = hwo_to_scda[str(hwo_seg + 1)] - 1\n",
    "        for hexike in range(0, n_zernikes):\n",
    "            tel2.sm.actuators[hexike + scda_seg * n_zernikes] = 0.5 * tel2_actuators[0][hexike + scda_seg * n_zernikes] * rdz_times[time][hwo_seg] * 1e-6\n",
    "\n",
    "    aberrated_psf, ref, intermediates = tel2.calc_psf(ref=True, display_intermediate=False, return_intermediate='intensity',norm_one_photon=True)\n",
    "    normalized_aberrated_psf = aberrated_psf / norm\n",
    "    aberr_roi = normalized_aberrated_psf * tel2.dh_mask\n",
    "    aber_contrast_floor = np.mean(aberr_roi[np.where(tel2.dh_mask != 0)])\n",
    "    contrasts_rdz.append(aber_contrast_floor)\n",
    "    print(\"contrast_floor:\", aber_contrast_floor)"
   ]
  },
  {
   "cell_type": "code",
   "execution_count": null,
   "id": "eb8e9001",
   "metadata": {},
   "outputs": [],
   "source": [
    "plt.figure(figsize=(20, 10))\n",
    "times = np.arange(0, 401, 1)\n",
    "plt.plot(times, contrasts_dx, marker='s', markersize=4, label='dx DOF')\n",
    "plt.plot(times, contrasts_dy, marker='P', markersize=4, label='dy DOF')\n",
    "plt.plot(times, contrasts_dz, marker='*', markersize=4, label='dz DOF')\n",
    "plt.plot(times, contrasts_rdx, marker='X', markersize=4, label='rdx DOF')\n",
    "plt.plot(times, contrasts_rdy, marker='v', markersize=4, label='rdy DOF')\n",
    "plt.plot(times, contrasts_rdz, marker='^', markersize=4, label='rdz DOF')\n",
    "plt.axhline(y=4.171337358217274e-11, color='r', linestyle='--', label='contrast_floor')\n",
    "plt.ylabel(\"Mean DH Contrast\")\n",
    "plt.ylim(4.171e-11, 4.172e-11)\n",
    "plt.xlabel(\"Time (in s)\")\n",
    "plt.legend()\n",
    "plt.tight_layout()\n",
    "plt.savefig(os.path.join(analysis_path, 'close_loop.png'))"
   ]
  },
  {
   "cell_type": "code",
   "execution_count": null,
   "id": "c48aef60",
   "metadata": {},
   "outputs": [],
   "source": [
    "np.savetxt(os.path.join(analysis_path, 'contrast_dx.csv'), contrasts_dx, delimiter=',')\n",
    "np.savetxt(os.path.join(analysis_path, 'contrast_dy.csv'), contrasts_dy, delimiter=',')\n",
    "np.savetxt(os.path.join(analysis_path, 'contrast_dz.csv'), contrasts_dz, delimiter=',')\n",
    "np.savetxt(os.path.join(analysis_path, 'contrast_rdx.csv'), contrasts_rdx, delimiter=',')\n",
    "np.savetxt(os.path.join(analysis_path, 'contrast_rdy.csv'), contrasts_rdy, delimiter=',')\n",
    "np.savetxt(os.path.join(analysis_path, 'contrast_rdz.csv'), contrasts_rdz, delimiter=',')"
   ]
  },
  {
   "cell_type": "code",
   "execution_count": null,
   "id": "f63303e2",
   "metadata": {},
   "outputs": [],
   "source": [
    "dx_times[0]"
   ]
  },
  {
   "cell_type": "markdown",
   "id": "c102073e",
   "metadata": {},
   "source": [
    "### Propagating the calibration opd (opds due to 1 um or 1 urad displacement)"
   ]
  },
  {
   "cell_type": "code",
   "execution_count": null,
   "id": "ec53fac4",
   "metadata": {
    "scrolled": false
   },
   "outputs": [],
   "source": [
    "tel2.sm.flatten()\n",
    "\n",
    "tel2.sm.actuators = 0.5 * tel2_actuators[5]\n",
    "# vmin=-2000*0.5, vmax= -1960*0.5\n",
    "# plt.figure()\n",
    "# plt.title(\"Surface\")\n",
    "# hcipy.imshow_field((tel2.sm.surface*1e9), cmap='jet')\n",
    "# cbar = plt.colorbar()\n",
    "# cbar.set_label(\"in nm\", loc='center')\n",
    "# plt.show()\n",
    "\n",
    "aberrated_psf, ref, intermediates = tel2.calc_psf(ref=True, display_intermediate=False, \n",
    "                                  return_intermediate='intensity',\n",
    "                                  norm_one_photon=True)\n",
    "\n",
    "normalized_aberrated_psf = aberrated_psf / norm\n",
    "\n",
    "aberr_roi = normalized_aberrated_psf * tel2.dh_mask\n",
    "aber_contrast_floor = np.mean(aberr_roi[np.where(tel2.dh_mask != 0)])\n",
    "print(\"contrast_floor:\", aber_contrast_floor)\n",
    "\n",
    "\n",
    "\n",
    "fpm_mask = np.zeros(len(intermediates['after_fpm']))\n",
    "\n",
    "for i in range(0, len(intermediates['after_fpm'])):\n",
    "    if intermediates['after_fpm'][i] == 0.0:\n",
    "        fpm_mask[i] = 0\n",
    "    else:\n",
    "        fpm_mask[i] = 1\n",
    "\n",
    "plt.figure(figsize = (13, 7))\n",
    "\n",
    "# Mirror surface\n",
    "plt.subplot(2, 3, 1)\n",
    "plt.title(\"Surface\")\n",
    "hcipy.imshow_field((tel2.sm.surface*1e9), mask=tel2.aperture, cmap='inferno')\n",
    "cbar = plt.colorbar()\n",
    "cbar.set_label(\"in nm\", loc='center')\n",
    "plt.xlabel(\"in m\")\n",
    "plt.tick_params(bottom=True, left=True, labelleft=True, labelbottom=True)\n",
    "\n",
    "# Entrance pupil\n",
    "plt.subplot(2, 3, 2)\n",
    "plt.title(\"Apodizer plane\")\n",
    "hcipy.imshow_field(tel2.sm.surface*1e9, mask= tel2.apodizer, cmap='inferno')\n",
    "plt.xlabel(\"in m\")\n",
    "cbar = plt.colorbar()\n",
    "cbar.set_label(\"in nm\", loc='center')\n",
    "\n",
    "plt.tick_params(bottom=True, left=True, labelleft=True, labelbottom=True)\n",
    "\n",
    "# before FPM\n",
    "plt.subplot(2, 3, 3)\n",
    "plt.title(\"Before FPM\")\n",
    "hcipy.imshow_field(intermediates['before_fpm'], \n",
    "                   norm=LogNorm(vmin=1e-8, vmax=1e-1), cmap='inferno')\n",
    "plt.xlabel(r\"in $\\lambda/D$\")\n",
    "plt.tick_params(bottom=True, left=True, labelleft=True, labelbottom=True)\n",
    "plt.colorbar()\n",
    "\n",
    "# after FPM, note: calc_psf returns int_after_fpm in log scale.\n",
    "plt.subplot(2, 3, 4)\n",
    "plt.title(\"After FPM\")\n",
    "plt.xlabel(r\"in $\\lambda/D$\")\n",
    "hcipy.imshow_field(10**(intermediates['after_fpm']), \n",
    "                   norm=LogNorm(vmin=1e-8, vmax=1e-1),mask = fpm_mask, cmap= 'inferno')\n",
    "plt.tick_params(bottom=True, left=True, labelleft=True, labelbottom=True)\n",
    "plt.colorbar()\n",
    "\n",
    "\n",
    "# after Lyot Stop\n",
    "plt.subplot(2, 3, 5)\n",
    "plt.title(\"After Lyot stop\")\n",
    "hcipy.imshow_field(intermediates['after_lyot'], mask=tel2.lyotstop, norm=LogNorm(vmin=1e-3, vmax=1),\n",
    "                   cmap='inferno')\n",
    "plt.xlabel(\"in m\")\n",
    "plt.tick_params(bottom=True, left=True, labelleft=True, labelbottom=True)\n",
    "plt.colorbar()\n",
    "\n",
    "# final PSF\n",
    "plt.subplot(2, 3, 6)\n",
    "plt.title(\"Coronagraphic PSF\")\n",
    "hcipy.imshow_field(aberrated_psf, norm=LogNorm(vmin=1e-14, vmax=1e-3), cmap='inferno')\n",
    "plt.xlabel(r\"in $\\lambda/D$\")\n",
    "plt.tick_params(bottom=True, left=True, labelleft=True, labelbottom=True)\n",
    "plt.colorbar()\n",
    "\n",
    "plt.tight_layout()\n",
    "plt.savefig(os.path.join(analysis_path, 'rdz_simulator.png'))"
   ]
  },
  {
   "cell_type": "code",
   "execution_count": null,
   "id": "c8e0ff8b",
   "metadata": {},
   "outputs": [],
   "source": [
    "tel2.lyotstop?"
   ]
  },
  {
   "cell_type": "markdown",
   "id": "97f2f568",
   "metadata": {},
   "source": [
    "### Propagate all DOFs at a time"
   ]
  },
  {
   "cell_type": "code",
   "execution_count": null,
   "id": "94db3249",
   "metadata": {
    "scrolled": true
   },
   "outputs": [],
   "source": [
    "tel2.sm.flatten()\n",
    "dx_times = []\n",
    "for time in range(0, 401):\n",
    "    dx = output_misalignments[:, time*6] * 1e12 # in units of pm. \n",
    "    dx = np.delete(dx, -1)\n",
    "    dx_times.append(dx)\n",
    "\n",
    "dy_times = []\n",
    "for time in range(0, 401):\n",
    "    dy = output_misalignments[:, time*6 + 1] * 1e12 # in units of pm. \n",
    "    dy = np.delete(dy, -1)\n",
    "    dy_times.append(dy)\n",
    "    \n",
    "dz_times = []\n",
    "for time in range(0, 401):\n",
    "    dz = output_misalignments[:, time*6 + 2] * 1e12 # in units of pm. \n",
    "    dz = np.delete(dz, -1)\n",
    "    dz_times.append(dz) \n",
    "    \n",
    "rdx_times = []\n",
    "for time in range(0, 401):\n",
    "    rdx = output_misalignments[:, time*6 + 3] * 1e12 # in units of pm. \n",
    "    rdx = np.delete(rdx, -1)\n",
    "    rdx_times.append(rdx)\n",
    "    \n",
    "    \n",
    "rdy_times = []\n",
    "for time in range(0, 401):\n",
    "    rdy = output_misalignments[:, time*6 + 4] * 1e12 # in units of pm. \n",
    "    rdy = np.delete(rdy, -1)\n",
    "    rdy_times.append(rdy)\n",
    "    \n",
    "rdz_times = []\n",
    "for time in range(0, 401):\n",
    "    rdz = output_misalignments[:, time*6 + 5] * 1e12 # in units of pm. \n",
    "    rdz = np.delete(rdz, -1)\n",
    "    rdz_times.append(rdz)\n",
    "    \n",
    "\n",
    "contrasts_dof = []\n",
    "for time in range(0, 401):\n",
    "    tel2.sm.flatten()\n",
    "    for hwo_seg in range(0, tel2.nseg):\n",
    "        scda_seg = hwo_to_scda[str(hwo_seg + 1)] - 1\n",
    "        for hexike in range(0, n_zernikes):\n",
    "            dox = 0.5 * tel2_actuators[0][hexike + scda_seg * n_zernikes] * dx_times[time][hwo_seg] * 1e-6\n",
    "            doy = 0.5 * tel2_actuators[1][hexike + scda_seg * n_zernikes] * dy_times[time][hwo_seg] * 1e-6\n",
    "            doz = 0.5 * tel2_actuators[2][hexike + scda_seg * n_zernikes] * dz_times[time][hwo_seg] * 1e-6\n",
    "            rdx = 0.5 * tel2_actuators[3][hexike + scda_seg * n_zernikes] * rdx_times[time][hwo_seg] * 1e-6\n",
    "            rdy = 0.5 * tel2_actuators[4][hexike + scda_seg * n_zernikes] * rdy_times[time][hwo_seg] * 1e-6\n",
    "            rdz = 0.5 * tel2_actuators[5][hexike + scda_seg * n_zernikes] * rdz_times[time][hwo_seg] * 1e-6\n",
    "            tel2.sm.actuators[hexike + scda_seg * n_zernikes] =  dox + doy + doz + rdx + rdy + rdz\n",
    "\n",
    "    aberrated_psf, ref, intermediates = tel2.calc_psf(ref=True, display_intermediate=False, return_intermediate='intensity',norm_one_photon=True)\n",
    "    normalized_aberrated_psf = aberrated_psf / norm\n",
    "    aberr_roi = normalized_aberrated_psf * tel2.dh_mask\n",
    "    aber_contrast_floor = np.mean(aberr_roi[np.where(tel2.dh_mask != 0)])\n",
    "    contrasts_dof.append(aber_contrast_floor)\n",
    "    print(\"contrast_floor:\", aber_contrast_floor)"
   ]
  },
  {
   "cell_type": "code",
   "execution_count": null,
   "id": "2c8b1cf9",
   "metadata": {},
   "outputs": [],
   "source": [
    "contrasts_dx = np.genfromtxt(os.path.join(analysis_path, 'contrast_dx.csv'), delimiter=',')\n",
    "contrasts_dy = np.genfromtxt(os.path.join(analysis_path, 'contrast_dy.csv'), delimiter=',')\n",
    "contrasts_dz = np.genfromtxt(os.path.join(analysis_path, 'contrast_dz.csv'), delimiter=',')\n",
    "contrasts_rdx = np.genfromtxt(os.path.join(analysis_path, 'contrast_rdx.csv'), delimiter=',')\n",
    "contrasts_rdy = np.genfromtxt(os.path.join(analysis_path, 'contrast_rdy.csv'), delimiter=',')\n",
    "contrasts_rdz = np.genfromtxt(os.path.join(analysis_path, 'contrast_rdz.csv'), delimiter=',')"
   ]
  },
  {
   "cell_type": "code",
   "execution_count": null,
   "id": "7b8dec1a",
   "metadata": {},
   "outputs": [],
   "source": [
    "plt.figure(figsize=(20, 10))\n",
    "times = np.arange(0, 401, 1)\n",
    "plt.plot(times, contrasts_dof, marker='s', markersize=8, label='total')\n",
    "plt.plot(times, contrasts_dx, marker='s', markersize=4)\n",
    "plt.plot(times, contrasts_dy, marker='P', markersize=4, label='dy DOF')\n",
    "plt.plot(times, contrasts_dz, marker='*', markersize=4, label='dz DOF')\n",
    "plt.plot(times, contrasts_rdx, marker='X', markersize=4, label='rdx DOF')\n",
    "plt.plot(times, contrasts_rdy, marker='v', markersize=4, label='rdy DOF')\n",
    "plt.plot(times, contrasts_rdz, marker='^', markersize=4, label='rdz DOF')\n",
    "plt.axhline(y=4.171337358217274e-11, color='r', linestyle='--', label='contrast_floor')\n",
    "plt.ylabel(\"Mean DH Contrast\")\n",
    "plt.xlabel(\"Time (in s)\")\n",
    "plt.legend()\n",
    "plt.tight_layout()\n",
    "plt.savefig(os.path.join(analysis_path, 'total_close_loop.png'))"
   ]
  },
  {
   "cell_type": "markdown",
   "id": "6ce0ac5f",
   "metadata": {},
   "source": [
    "#### Remove PTT from dOPDs"
   ]
  },
  {
   "cell_type": "code",
   "execution_count": null,
   "id": "2cd0df2d",
   "metadata": {
    "scrolled": false
   },
   "outputs": [],
   "source": [
    "tel2.sm.flatten()\n",
    "tel2_surfaces_withoutPTT = []\n",
    "for dof in range(0, 6):\n",
    "    tel2.sm.flatten()\n",
    "    for hwo_seg in range(0, tel2.nseg): \n",
    "        for hexike in range(3, n_zernikes):\n",
    "            scda_seg = hwo_to_scda[str(hwo_seg + 1)] - 1\n",
    "            if hexike == 0:\n",
    "                hexn = 0\n",
    "                sign = 2\n",
    "            elif hexike == 1:\n",
    "                hexn = 1\n",
    "                sign = 1\n",
    "            elif hexike == 2:\n",
    "                hexn = 2\n",
    "                sign = -1\n",
    "            elif hexike == 4:\n",
    "                hexn = 5\n",
    "                sign = -1\n",
    "            elif hexike == 5:\n",
    "                hexn = 4\n",
    "                sign = 1\n",
    "            elif hexike == 6:\n",
    "                hexn = 7\n",
    "                sign = 1\n",
    "            elif hexike == 7:\n",
    "                hexn = 6\n",
    "                sign = 1\n",
    "            elif hexike == 8:\n",
    "                hexn = 10\n",
    "                sign = 1\n",
    "            elif hexike == 9:\n",
    "                hexn = 9\n",
    "                sign = 1\n",
    "            elif hexike == 10:\n",
    "                hexn = 8\n",
    "                sign = 1\n",
    "            else:\n",
    "                hexn = hexike\n",
    "            tel2.sm.actuators[hexike + scda_seg * n_zernikes] = 0.5 * sign * segs_tables[hwo_seg][dof][hexn] * 1e-9\n",
    "    \n",
    "    tel2_surfaces_withoutPTT.append(tel2.sm.surface)"
   ]
  },
  {
   "cell_type": "code",
   "execution_count": null,
   "id": "4f804ab3",
   "metadata": {},
   "outputs": [],
   "source": [
    "titles = np.array([\"X nm RMS/um\", \"Y nm RMS/um\", \"Z nm RMS/um\", \n",
    "                  \"Rx nm RMS/urad\", \"Ry nm RMS/urad\", \"Rz nm RMS/urad\" ])\n",
    "        \n",
    "plt.figure(figsize = (14, 9))\n",
    "for dof in range(0, 6):\n",
    "    if dof!=2:\n",
    "        rms_scda = np.sqrt(np.mean((tel2_surfaces_withoutPTT[dof][np.where(tel2.aperture!= 0)])**2)) * 1e9\n",
    "        plt.subplot(2, 3, dof+1)\n",
    "        plt.title(titles[dof], fontweight = 'bold')\n",
    "        hcipy.imshow_field(tel2_surfaces_withoutPTT[dof]*1e9, cmap='jet')\n",
    "        plt.xlabel(f'RMS: {rms_scda:.5f} nm')\n",
    "        cbar = plt.colorbar()\n",
    "        cbar.set_label(\"in nm\", loc='center')\n",
    "\n",
    "plt.subplot(2, 3, 3)\n",
    "rms_scda = np.sqrt(np.mean((tel2_surfaces_withoutPTT[2][np.where(tel2.aperture!= 0)])**2)) * 1e9\n",
    "plt.title(\"Z nm RMS/um\", fontweight = 'bold')\n",
    "hcipy.imshow_field(tel2_surfaces_withoutPTT[2]*1e9, cmap='jet')\n",
    "plt.xlabel(f\"RMS: {rms_scda:.5f} nm\")\n",
    "cbar = plt.colorbar()\n",
    "cbar.set_label(\"in nm\", loc='center')\n",
    "#plt.savefig(os.path.join(analysis_path, 'hwo_without_PTT_sorted.png'))"
   ]
  },
  {
   "cell_type": "markdown",
   "id": "6346fe36",
   "metadata": {},
   "source": [
    "#### Calculate the percentage off from dopds' value"
   ]
  },
  {
   "cell_type": "code",
   "execution_count": null,
   "id": "dd0a1004",
   "metadata": {},
   "outputs": [],
   "source": [
    "print(\"With PTT\")\n",
    "print(\"For X dof:\", round(np.abs((18.31 - 18.5)/18.5 * 100), 2),\"%\")\n",
    "print(\"For Y dof:\", round(np.abs((18.20 - 18.36)/18.36 * 100), 2),\"%\")\n",
    "#print(\"For Z dof:\", round(np.abs((18.31 - 18.5)/18.5 * 100), 2),\"%\")\n",
    "print(\"For Rx dof:\", round(np.abs((812.18 - 818.9)/819.9 * 100), 2),\"%\")\n",
    "print(\"For Ry dof:\", round(np.abs((803.33 - 812.1)/812.1 * 100), 2),\"%\")\n",
    "print(\"For Rz dof:\", round(np.abs((94.08 - 95.13)/95.13 * 100), 2),\"%\", \"\\n\")\n",
    "\n",
    "\n",
    "print(\"without PTT\")\n",
    "print(\"For X dof:\", round(np.abs((0.04025 - 0.03382)/0.03382 * 100), 2),\"%\")\n",
    "print(\"For Y dof:\", round(np.abs((0.04398 - 0.03907)/0.03907 * 100), 2),\"%\")\n",
    "print(\"For Z dof:\", round(np.abs((0.17940 - 0.1993)/0.1993 * 100), 2),\"%\")\n",
    "print(\"For Rx dof:\", round(np.abs((0.88674 - 0.7349)/0.7349 * 100), 2),\"%\")\n",
    "print(\"For Ry dof:\", round(np.abs((0.85748 - 0.7118)/0.7118 * 100), 2),\"%\")\n",
    "print(\"For Rz dof:\", round(np.abs((0.23794 - 0.1977)/0.1977 * 100), 2),\"%\", \"\\n\")"
   ]
  },
  {
   "cell_type": "code",
   "execution_count": null,
   "id": "15273d7e",
   "metadata": {},
   "outputs": [],
   "source": []
  },
  {
   "cell_type": "code",
   "execution_count": null,
   "id": "7c9f2cf7",
   "metadata": {},
   "outputs": [],
   "source": [
    "#A = np.array([[1, 8, 9, 4], [2, 6, 7, 0], [1, 3, 8, 9], [0, 0, 4,1]])\n",
    "# A = np.array([[1.6, 8, 9, 4], [2, 6, 7, 0], [1, 3, 8, 9]])\n",
    "# print(A)\n",
    "\n",
    "# A[:,[0,3]] = A[:,[3,0]]\n",
    "# print(A)\n",
    "\n",
    "# seg1_table[:, [5, 4]] = seg1_table[:, [4, 5]] # swapping astigmatism\n",
    "# seg1_table[:, [7, 6]] = seg1_table[:, [6, 7]] # swapping coma"
   ]
  },
  {
   "cell_type": "markdown",
   "id": "b42fa8db",
   "metadata": {},
   "source": [
    "#### Plot the hexmaps from ball.\n",
    " "
   ]
  },
  {
   "cell_type": "code",
   "execution_count": null,
   "id": "ca5dff4b",
   "metadata": {},
   "outputs": [],
   "source": [
    "def cart2pol(x, y):\n",
    "    rho = np.sqrt(x**2 + y**2)\n",
    "    phi = np.arctan2(y, x)\n",
    "    return(rho, phi)\n",
    "\n",
    "X = np.linspace(-10, 10, 1000)\n",
    "Y = np.linspace(-10, 10, 1000)\n",
    "\n",
    "th, R = cart2pol(X, -Y)"
   ]
  },
  {
   "cell_type": "code",
   "execution_count": null,
   "id": "ccc96ff8",
   "metadata": {
    "scrolled": false
   },
   "outputs": [],
   "source": [
    "z1 = np.ones(X.shape) \n",
    "z2 = np.sqrt(24/5)*X\n",
    "z3 = np.sqrt(24/5)*Y\n",
    "z4 = np.sqrt(720/43)*(R**2 - 5/12)\n",
    "z5 = np.sqrt(60/7)*(R**2)*np.cos(2*th)\n",
    "z6 = np.sqrt(60/7)*(R**2)*np.sin(2*th)\n",
    "z7 = np.sqrt(84000/737)*(R**2 - 14/25)*R*np.cos(th)\n",
    "z8 = np.sqrt(84000/737)*(R**2 - 14/25)*R*np.sin(th)\n",
    "z9 = np.sqrt(1517040/4987)*(R**4 - 257/301*(R**2) + 737/6020)\n",
    "z10 = np.sqrt(1120/103)*(R**3)*(np.cos(3*th))\n",
    "z11 = np.sqrt(160/9)*(R**3)*(np.cos(3*th))\n",
    "\n",
    "plt.figure()\n",
    "plt.subplot(3, 4, 1)\n",
    "plt.plot(X, z1)\n",
    "\n",
    "plt.subplot(3, 4, 2)\n",
    "plt.plot(X, z2)\n",
    "\n",
    "plt.subplot(3, 4, 3)\n",
    "plt.plot(X, z3)\n",
    "\n",
    "plt.subplot(3, 4, 4)\n",
    "plt.plot(X, z4)\n",
    "\n",
    "plt.subplot(3, 4, 5)\n",
    "plt.plot(X, z5)\n",
    "\n",
    "plt.subplot(3, 4, 6)\n",
    "plt.plot(X, z6)\n",
    "\n",
    "plt.subplot(3, 4, 7)\n",
    "plt.plot(X, z7)\n",
    "\n",
    "plt.subplot(3, 4, 8)\n",
    "plt.plot(X, z8)\n",
    "\n",
    "plt.subplot(3, 4, 9)\n",
    "plt.plot(X, z9)\n",
    "\n",
    "plt.subplot(3, 4, 10)\n",
    "plt.plot(X, z10)\n",
    "\n",
    "plt.subplot(3, 4, 11)\n",
    "plt.plot(X, z11)"
   ]
  },
  {
   "cell_type": "code",
   "execution_count": null,
   "id": "55716ed3",
   "metadata": {},
   "outputs": [],
   "source": [
    "grid = hcipy.make_pupil_grid(1000)\n",
    "R, th = grid.as_('polar').coords\n",
    "X, Y = grid.coords\n",
    "\n",
    "z1 = np.ones(X.shape) \n",
    "z2 = np.sqrt(24/5)*X\n",
    "z3 = np.sqrt(24/5)*Y\n",
    "z4 = np.sqrt(720/43)*(R**2 - 5/12)\n",
    "z5 = np.sqrt(60/7)*(R**2)*np.cos(2*th)\n",
    "z6 = np.sqrt(60/7)*(R**2)*np.sin(2*th)\n",
    "z7 = np.sqrt(84000/737)*(R**2 - 14/25)*R*np.cos(th)\n",
    "z8 = np.sqrt(84000/737)*(R**2 - 14/25)*R*np.sin(th)\n",
    "z9 = np.sqrt(1517040/4987)*(R**4 - 257/301*(R**2) + 737/6020)\n",
    "z10 = np.sqrt(1120/103)*(R**3)*(np.cos(3*th))\n",
    "z11 = np.sqrt(160/9)*(R**3)*(np.cos(3*th))\n",
    "\n",
    "hcipy.imshow_field(z2, grid)\n",
    "plt.colorbar()"
   ]
  },
  {
   "cell_type": "markdown",
   "id": "e92ff1ff",
   "metadata": {},
   "source": [
    "### 1/2 factor discrepancy"
   ]
  },
  {
   "cell_type": "code",
   "execution_count": null,
   "id": "381dac54",
   "metadata": {},
   "outputs": [],
   "source": [
    "tel2.sm.flatten()\n",
    "tel2.sm.actuators[0] = 1\n",
    "mask = tel2.sm.surface\n",
    "\n",
    "hcipy.imshow_field(mask, cmap='jet')\n",
    "plt.colorbar()"
   ]
  },
  {
   "cell_type": "code",
   "execution_count": null,
   "id": "f8246742",
   "metadata": {
    "scrolled": false
   },
   "outputs": [],
   "source": [
    "tel2.sm.flatten()\n",
    "\n",
    "tel2.sm.actuators[10] = 1e-9\n",
    "\n",
    "rms = np.sqrt(np.mean((tel2.sm.surface[np.where(mask!= 0)])**2)) * 1e9\n",
    "\n",
    "plt.figure()\n",
    "hcipy.imshow_field(tel2.sm.surface*1e9, cmap='jet')\n",
    "plt.xlabel(f\"RMS for one segment: {rms:.3f} nm\")\n",
    "cbar = plt.colorbar()\n",
    "cbar.set_label(\"in nm\", loc='center')"
   ]
  },
  {
   "cell_type": "code",
   "execution_count": null,
   "id": "6d20007f",
   "metadata": {},
   "outputs": [],
   "source": []
  },
  {
   "cell_type": "code",
   "execution_count": null,
   "id": "40dc984f",
   "metadata": {},
   "outputs": [],
   "source": [
    "60220*z9 = np.sqrt(1517040/4987)*(6020*R**4 - 6020* 257/301*(R**2) + 737)"
   ]
  },
  {
   "cell_type": "code",
   "execution_count": null,
   "id": "90d990f8",
   "metadata": {},
   "outputs": [],
   "source": [
    "737*3/(np.sqrt(1072205))"
   ]
  },
  {
   "cell_type": "code",
   "execution_count": null,
   "id": "8bc09aa1",
   "metadata": {},
   "outputs": [],
   "source": [
    "np.sqrt(1517040/4987) *  737/6020"
   ]
  },
  {
   "cell_type": "code",
   "execution_count": null,
   "id": "9307fa25",
   "metadata": {},
   "outputs": [],
   "source": [
    "local_zernike_basis = hcipy.mode_basis.make_zernike_basis(n_zernikes,\n",
    "                                                          tel2.segment_circumscribed_diameter,\n",
    "                                                          tel2.pupil_grid.shifted(-tel2.seg_pos[0]),\n",
    "                                                          starting_mode=1, radial_cutoff=False)"
   ]
  },
  {
   "cell_type": "code",
   "execution_count": null,
   "id": "afbb03e8",
   "metadata": {},
   "outputs": [],
   "source": [
    "hcipy.imshow_field(local_zernike_basis[5])\n",
    "plt.colorbar()"
   ]
  },
  {
   "cell_type": "code",
   "execution_count": null,
   "id": "369a3f24",
   "metadata": {},
   "outputs": [],
   "source": [
    "len(local_zernike_basis)"
   ]
  },
  {
   "cell_type": "markdown",
   "id": "a5f0f6ea",
   "metadata": {},
   "source": [
    "### Compare LS designs from Bry "
   ]
  },
  {
   "cell_type": "code",
   "execution_count": null,
   "id": "254252c0",
   "metadata": {},
   "outputs": [],
   "source": [
    "b_apodizer = fits.getdata(os.path.join(analysis_path, '2-Hex_robust_0px_N1024.fits'))\n",
    "b_lyot_stop = fits.getdata(os.path.join(analysis_path, 'LS_LUVex_02-Hex_ID0000_OD0982_no_struts_gy_ovsamp4_N1024.fits'))\n",
    "b_aperture = fits.getdata(os.path.join(analysis_path, 'TelAp_LUVex_02-Hex_gy_ovsamp04_N1024.fits'))"
   ]
  },
  {
   "cell_type": "code",
   "execution_count": null,
   "id": "d13a1e7c",
   "metadata": {},
   "outputs": [],
   "source": [
    "plt.figure(figsize=(12, 5))\n",
    "plt.subplot(1, 2, 1)\n",
    "plt.title(\"From SCDA simualor\")\n",
    "hcipy.imshow_field(tel2.apodizer, mask=tel2.lyotstop, cmap='Greys_r')\n",
    "plt.colorbar()\n",
    "\n",
    "plt.subplot(1, 2, 2)\n",
    "plt.title(\"From Bry's fits file\")\n",
    "plt.imshow(b_apodizer * b_lyot_stop,  cmap ='Greys_r' )\n",
    "plt.colorbar()\n",
    "\n",
    "plt.savefig(os.path.join(analysis_path, 'ls_comparison.png'))"
   ]
  },
  {
   "cell_type": "code",
   "execution_count": null,
   "id": "b6e2c208",
   "metadata": {},
   "outputs": [],
   "source": [
    "tel2.sm.flatten()\n",
    "scda_aperture = np.array((tel2.aperture).shaped)\n",
    "\n",
    "plt.figure(figsize=(20, 5))\n",
    "plt.subplot(1, 3, 1)\n",
    "plt.title(\"From SCDA aperture\")\n",
    "plt.imshow(scda_aperture, cmap ='Greys_r' )\n",
    "plt.colorbar()\n",
    "\n",
    "plt.subplot(1, 3, 2)\n",
    "plt.title(\"From Bry's fits file\")\n",
    "plt.imshow(b_aperture,  cmap ='Greys_r' )\n",
    "plt.colorbar()\n",
    "\n",
    "plt.subplot(1, 3, 3)\n",
    "plt.title(\"Differences between them\")\n",
    "plt.imshow(b_aperture-scda_aperture,  cmap ='Greys_r' )\n",
    "plt.colorbar()\n",
    "plt.tight_layout()\n",
    "plt.savefig(os.path.join(analysis_path, 'mirror_comparison.png'))"
   ]
  },
  {
   "cell_type": "code",
   "execution_count": null,
   "id": "74e8726a",
   "metadata": {},
   "outputs": [],
   "source": []
  },
  {
   "cell_type": "code",
   "execution_count": null,
   "id": "dff233bc",
   "metadata": {},
   "outputs": [],
   "source": []
  }
 ],
 "metadata": {
  "kernelspec": {
   "display_name": "Python 3 (ipykernel)",
   "language": "python",
   "name": "python3"
  },
  "language_info": {
   "codemirror_mode": {
    "name": "ipython",
    "version": 3
   },
   "file_extension": ".py",
   "mimetype": "text/x-python",
   "name": "python",
   "nbconvert_exporter": "python",
   "pygments_lexer": "ipython3",
   "version": "3.10.8"
  }
 },
 "nbformat": 4,
 "nbformat_minor": 5
}
