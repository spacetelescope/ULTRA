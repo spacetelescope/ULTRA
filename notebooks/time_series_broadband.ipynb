{
 "cells": [
  {
   "cell_type": "code",
   "execution_count": null,
   "id": "4a73de7d",
   "metadata": {},
   "outputs": [],
   "source": [
    "import numpy as np\n",
    "import os\n",
    "import matplotlib.pyplot as plt\n",
    "\n",
    "from astropy.io import fits\n",
    "from matplotlib.colors import LogNorm, TwoSlopeNorm\n",
    "import numpy as np\n",
    "import scipy.io\n",
    "import hcipy\n",
    "\n",
    "import pastis.util as util\n",
    "from pastis.config import CONFIG_PASTIS\n",
    "from pastis.simulators.luvoir_imaging import LuvoirA_APLC\n",
    "from pastis.simulators.scda_telescopes import HexRingAPLC\n",
    "\n",
    "os.chdir('../ULTRA')\n",
    "from config import CONFIG_ULTRA"
   ]
  },
  {
   "cell_type": "code",
   "execution_count": null,
   "id": "64a10856",
   "metadata": {},
   "outputs": [],
   "source": [
    "data_path = CONFIG_ULTRA.get('local_path', 'local_data_path')\n",
    "analysis_path = CONFIG_ULTRA.get('local_path', 'local_analysis_path')\n",
    "\n",
    "input_misalignments = np.genfromtxt(os.path.join(data_path,'INPUT_MISALIGNMENTS.txt'),  delimiter=';')\n",
    "output_misalignments = np.genfromtxt(os.path.join(data_path,'RESIDUAL_MISALIGNMENTS.txt'),  delimiter=';')"
   ]
  },
  {
   "cell_type": "code",
   "execution_count": null,
   "id": "a3a69110",
   "metadata": {},
   "outputs": [],
   "source": [
    "optics_dir = os.path.join(util.find_repo_location(), 'data', 'SCDA')\n",
    "NUM_RINGS = 2\n",
    "sampling = 4\n",
    "\n",
    "tel2 = HexRingAPLC(optics_dir, NUM_RINGS, sampling)\n",
    "\n",
    "n_zernikes = 11\n",
    "tel2.create_segmented_mirror(n_zernikes)\n",
    "\n",
    "print(tel2.sm.actuators)\n",
    "\n",
    "unaberrated_psf, ref, intermediates = tel2.calc_psf(ref=True, display_intermediate=False, \n",
    "                                  return_intermediate='intensity',\n",
    "                                  norm_one_photon=True)\n",
    "\n",
    "norm = np.max(ref)\n",
    "normalized_unaberrated_psf = unaberrated_psf / norm\n",
    "print(tel2.sm.actuators)\n",
    "unaberr_roi = normalized_unaberrated_psf * tel2.dh_mask\n",
    "contrast_floor = np.mean(unaberr_roi[np.where(tel2.dh_mask != 0)])\n",
    "print(\"contrast_floor:\", contrast_floor, \"wavelength:\", tel2.wvln)"
   ]
  },
  {
   "cell_type": "code",
   "execution_count": null,
   "id": "0b75184b",
   "metadata": {},
   "outputs": [],
   "source": [
    "copy_psf = normalized_unaberrated_psf.copy()\n",
    "copy_psf.grid = copy_psf.grid.scaled((500 * 1e-9 / tel2.diam))\n",
    "\n",
    "plt.figure(figsize = (12, 5))\n",
    "r1, profile1, _, _ = hcipy.radial_profile(copy_psf, 0.15, statistic = 'mean')\n",
    "plt.plot(r1, np.log10(profile1))\n",
    "plt.show()"
   ]
  },
  {
   "cell_type": "code",
   "execution_count": null,
   "id": "58702a9f",
   "metadata": {},
   "outputs": [],
   "source": [
    "mono_contrast = {\"475\": 4.1708498716575394e-11, \n",
    "                       \"480\": 4.1715715775570424e-11,\n",
    "                       \"485\": 4.168976012133777e-11, \n",
    "                       \"490\": 4.168787270144789e-11,\n",
    "                       \"495\": 4.167001672197429e-11,\n",
    "                       \"500\": 4.171337358217274e-11, \n",
    "                       \"505\": 4.1687872701454613e-11, \n",
    "                       \"510\": 4.169515132321805e-11,\n",
    "                       \"515\": 4.1652345639236236e-11,\n",
    "                       \"520\": 4.1711895834213314e-11,\n",
    "                       \"525\": 4.1715715775571277e-11,\n",
    "                       \"530\": 4.171138806756271e-11,\n",
    "                       \"535\": 4.1674416722877654e-11,\n",
    "                       \"540\": 4.161060449198776e-11\n",
    "                      }"
   ]
  },
  {
   "cell_type": "code",
   "execution_count": null,
   "id": "96cfc82c",
   "metadata": {},
   "outputs": [],
   "source": [
    "mono_contrast[\"540\"]"
   ]
  },
  {
   "cell_type": "code",
   "execution_count": null,
   "id": "cd6c4f60",
   "metadata": {},
   "outputs": [],
   "source": [
    "c_list = []\n",
    "for wvln in range(475, 530, 5):\n",
    "    print(wvln)\n",
    "    contrast = mono_contrast[str(wvln)]\n",
    "    c_list.append(contrast)\n",
    "\n",
    "    \n",
    "print(\"Broadband contrast:\", np.mean(np.array(c_list)))"
   ]
  },
  {
   "cell_type": "code",
   "execution_count": null,
   "id": "a383418b",
   "metadata": {},
   "outputs": [],
   "source": []
  },
  {
   "cell_type": "code",
   "execution_count": null,
   "id": "c8d42fe0",
   "metadata": {},
   "outputs": [],
   "source": []
  },
  {
   "cell_type": "code",
   "execution_count": null,
   "id": "116ed48a",
   "metadata": {},
   "outputs": [],
   "source": []
  },
  {
   "cell_type": "code",
   "execution_count": null,
   "id": "19d3791b",
   "metadata": {},
   "outputs": [],
   "source": [
    "optics_input = os.path.join(util.find_repo_location(), CONFIG_PASTIS.get('LUVOIR', 'optics_path_in_repo'))\n",
    "sampling = CONFIG_PASTIS.getfloat('LUVOIR', 'sampling')\n",
    "\n",
    "luvoir = LuvoirA_APLC(optics_input, \"small\", sampling)\n",
    "\n",
    "unaberrated_coro_psf, ref = luvoir.calc_psf(ref=True, display_intermediate=False, norm_one_photon=True)\n",
    "norm = np.max(ref)\n",
    "dh_intensity = (unaberrated_coro_psf / norm) * luvoir.dh_mask\n",
    "contrast_floor = np.mean(dh_intensity[np.where(luvoir.dh_mask != 0)])\n",
    "print(f'static contrast floor for luvoirA small APLC design: {contrast_floor}, wavlength:{luvoir.wvln}')"
   ]
  },
  {
   "cell_type": "code",
   "execution_count": null,
   "id": "c41fdbb3",
   "metadata": {},
   "outputs": [],
   "source": []
  }
 ],
 "metadata": {
  "kernelspec": {
   "display_name": "Python 3 (ipykernel)",
   "language": "python",
   "name": "python3"
  },
  "language_info": {
   "codemirror_mode": {
    "name": "ipython",
    "version": 3
   },
   "file_extension": ".py",
   "mimetype": "text/x-python",
   "name": "python",
   "nbconvert_exporter": "python",
   "pygments_lexer": "ipython3",
   "version": "3.10.8"
  }
 },
 "nbformat": 4,
 "nbformat_minor": 5
}
