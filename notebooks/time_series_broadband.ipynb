{
 "cells": [
  {
   "cell_type": "code",
   "execution_count": null,
   "id": "4a73de7d",
   "metadata": {},
   "outputs": [],
   "source": [
    "import numpy as np\n",
    "import os\n",
    "import matplotlib.pyplot as plt\n",
    "\n",
    "from astropy.io import fits\n",
    "from matplotlib.colors import LogNorm, TwoSlopeNorm\n",
    "from matplotlib.ticker import LogFormatter \n",
    "import numpy as np\n",
    "import scipy.io\n",
    "import hcipy\n",
    "\n",
    "import pastis.util as util\n",
    "from pastis.config import CONFIG_PASTIS\n",
    "from pastis.simulators.scda_telescopes import HexRingAPLC\n",
    "\n",
    "os.chdir('../ULTRA')\n",
    "from config import CONFIG_ULTRA"
   ]
  },
  {
   "cell_type": "code",
   "execution_count": null,
   "id": "64a10856",
   "metadata": {},
   "outputs": [],
   "source": [
    "data_path = CONFIG_ULTRA.get('local_path', 'local_data_path')\n",
    "analysis_path = CONFIG_ULTRA.get('local_path', 'local_analysis_path')\n",
    "\n",
    "open_loop = np.genfromtxt(os.path.join(data_path,'INPUT_MISALIGNMENTS.txt'),  delimiter=';')\n",
    "close_loop = np.genfromtxt(os.path.join(data_path,'RESIDUAL_MISALIGNMENTS.txt'),  delimiter=';')"
   ]
  },
  {
   "cell_type": "code",
   "execution_count": null,
   "id": "a3a69110",
   "metadata": {
    "scrolled": false
   },
   "outputs": [],
   "source": [
    "optics_dir = os.path.join(util.find_repo_location(), 'data', 'SCDA')\n",
    "NUM_RINGS = 2\n",
    "sampling = 4\n",
    "\n",
    "coron_psfs = []\n",
    "direct_psfs = []\n",
    "contrast_floors = []\n",
    "\n",
    "wvls = np.arange(475, 530, 25)\n",
    "\n",
    "for wvl in wvls:\n",
    "    tel2 = HexRingAPLC(optics_dir, NUM_RINGS, sampling)\n",
    "\n",
    "    unaberrated_psf, ref, intermediates = tel2.calc_psf(ref=True, display_intermediate=True, \n",
    "                                      return_intermediate='intensity',\n",
    "                                      norm_one_photon=True, wv=wvl*1e-9)\n",
    "\n",
    "    norm = np.max(ref)\n",
    "    normalized_unaberrated_psf = unaberrated_psf / norm\n",
    "    \n",
    "   \n",
    "    unaberr_roi = normalized_unaberrated_psf * tel2.dh_mask\n",
    "    contrast_floor = np.mean(unaberr_roi[np.where(tel2.dh_mask != 0)])\n",
    "    \n",
    "    coron_psfs.append(normalized_unaberrated_psf)\n",
    "    direct_psfs.append(ref)\n",
    "    contrast_floors.append(contrast_floor)\n",
    "    \n",
    "    print( \"wavelength:\", wvl, \"contrast_floor:\", contrast_floor, \"central wavelength:\", tel2.wvln)"
   ]
  },
  {
   "cell_type": "code",
   "execution_count": null,
   "id": "e3042c60",
   "metadata": {},
   "outputs": [],
   "source": [
    "print(\"Mean broadband contrast:\", np.mean(np.array(contrast_floors)))"
   ]
  },
  {
   "cell_type": "markdown",
   "id": "81a2e300",
   "metadata": {},
   "source": [
    "### Plot broadband/ Monochromatic PSF"
   ]
  },
  {
   "cell_type": "code",
   "execution_count": null,
   "id": "92c16ea7",
   "metadata": {},
   "outputs": [],
   "source": [
    "broadband_psf = 0 * coron_psfs[0]\n",
    "for i in range(0, len(coron_psfs)):\n",
    "    broadband_psf = broadband_psf + coron_psfs[i]\n",
    "\n",
    "x_pixels = [0, 20 ,40, 60, 80, 100]\n",
    "x_ld = [r\"-14.25$\\lambda/D$\",r\"-9.25$\\lambda/D$\", r\"-4.25$\\lambda/D$\", r\"0.75$\\lambda/D$\",\n",
    "        r\"5.75$\\lambda/D$\", r\"10.75$\\lambda/D$\"]\n",
    "\n",
    "plt.figure()\n",
    "plt.title(f\"Broadband PSF\")\n",
    "hcipy.imshow_field((broadband_psf / (len(coron_psfs))),norm=LogNorm(vmin=1e-14, vmax=1e-1), cmap='inferno')\n",
    "plt.colorbar()\n",
    "# plt.xticks(x_pixels, x_ld, fontsize = 8)\n",
    "# plt.yticks(x_pixels, x_ld, fontsize = 8)\n",
    "# plt.xlabel(r\"Angular Separation $(\\lambda_{0}/D)$\")\n",
    "# plt.ylabel(r\"Angular Separation $(\\lambda_{0}/D)$\")\n",
    "plt.tick_params(bottom=False, left=False, labelleft=False, labelbottom=False)\n",
    "plt.tight_layout()\n",
    "\n",
    "#plt.savefig(os.path.join(analysis_path, f'broadband_psf.png'))"
   ]
  },
  {
   "cell_type": "markdown",
   "id": "eb063ab1",
   "metadata": {},
   "source": [
    "### Plot mean DH contrast_floor vs wavlength"
   ]
  },
  {
   "cell_type": "code",
   "execution_count": null,
   "id": "c752c900",
   "metadata": {
    "scrolled": false
   },
   "outputs": [],
   "source": [
    "plt.figure()\n",
    "plt.title(\"Monochromatic Contrasts floors vs wavelength\")\n",
    "plt.plot(wvls, contrast_floors)\n",
    "plt.ylabel(\"Mean DH Contrast\")\n",
    "plt.xlabel('Wavelength (in nm)')\n",
    "plt.yscale('log')\n",
    "\n",
    "#plt.savefig(os.path.join(analysis_path, 'contrast_floors_wavelength.png'))"
   ]
  },
  {
   "cell_type": "markdown",
   "id": "705dc1b5",
   "metadata": {},
   "source": [
    "### Create segmented zernike mirror"
   ]
  },
  {
   "cell_type": "code",
   "execution_count": null,
   "id": "b5c01d03",
   "metadata": {},
   "outputs": [],
   "source": [
    "n_zernikes = 11\n",
    "tel2.create_segmented_mirror(n_zernikes)"
   ]
  },
  {
   "cell_type": "markdown",
   "id": "56c7ece6",
   "metadata": {},
   "source": [
    "#### Set the type of data you want to analyze, i.e. whether open loop or close loop. "
   ]
  },
  {
   "cell_type": "code",
   "execution_count": null,
   "id": "fa7a0b03",
   "metadata": {},
   "outputs": [],
   "source": [
    "time_series = open_loop"
   ]
  },
  {
   "cell_type": "markdown",
   "id": "337bc800",
   "metadata": {},
   "source": [
    "#### Get pre-saved sensitvity OPDs corresponding to 1 micron dx, dy, dz, rdx, rdy, rdz "
   ]
  },
  {
   "cell_type": "code",
   "execution_count": null,
   "id": "137effc4",
   "metadata": {},
   "outputs": [],
   "source": [
    "tel2_actuators = 0.5 * fits.getdata(os.path.join(analysis_path, 'optical_sensitvity.fits'))"
   ]
  },
  {
   "cell_type": "markdown",
   "id": "e781aef8",
   "metadata": {},
   "source": [
    "#### Plot OPDs corresponding to PTT via SCDA simulator.\n",
    "The following plot including colorbars, and RMS should closely match to OPDs pictures from Garrett for the case of PTT, If not matching, there might be some error in sorting the segment number or Zernike coefficients. Simulator uses Noll Convention. "
   ]
  },
  {
   "cell_type": "code",
   "execution_count": null,
   "id": "721bf2c0",
   "metadata": {},
   "outputs": [],
   "source": [
    "titles = np.array([\"X nm RMS/um\", \"Y nm RMS/um\", \"Z nm RMS/um\", \n",
    "                  \"Rx nm RMS/urad\", \"Ry nm RMS/urad\", \"Rz nm RMS/urad\" ])\n",
    "        \n",
    "plt.figure(figsize = (14, 9))\n",
    "for dof in range(0, 6):\n",
    "    if dof!=2:\n",
    "        tel2.sm.flatten()\n",
    "        tel2.sm.actuators = tel2_actuators[dof]\n",
    "        rms_scda = np.sqrt(np.mean((tel2.sm.opd[np.where(tel2.aperture!= 0)])**2)) * 1e9\n",
    "        plt.subplot(2, 3, dof+1)\n",
    "        plt.title(titles[dof], fontweight = 'bold')\n",
    "        hcipy.imshow_field(tel2.sm.opd*1e9, cmap='jet')\n",
    "        plt.xlabel(f'RMS: {rms_scda:.2f} nm')\n",
    "        cbar = plt.colorbar()\n",
    "        cbar.set_label(\"in nm\", loc='center')\n",
    "\n",
    "plt.subplot(2, 3, 3)\n",
    "tel2.sm.flatten()\n",
    "tel2.sm.actuators = tel2_actuators[2]\n",
    "rms_scda = np.sqrt(np.mean((tel2.sm.opd[np.where(tel2.aperture!= 0)])**2)) * 1e9\n",
    "plt.title(\"Z nm RMS/um\", fontweight = 'bold')\n",
    "hcipy.imshow_field(tel2.sm.opd*1e9, cmap='jet', vmin = -2000,  vmax= -1960)\n",
    "plt.xlabel(f\"RMS: {rms_scda:.2f} nm\")\n",
    "cbar = plt.colorbar()\n",
    "cbar.set_label(\"in nm\", loc='center')"
   ]
  },
  {
   "cell_type": "markdown",
   "id": "1e08f1ff",
   "metadata": {},
   "source": [
    "### Map HWO segment number to the SCDA segment number:"
   ]
  },
  {
   "cell_type": "code",
   "execution_count": null,
   "id": "6597f28f",
   "metadata": {},
   "outputs": [],
   "source": [
    "hwo_to_scda = {\"1\": 4, \"2\": 5, \"3\": 6, \"4\":7, \"5\":2, \"6\":3, \"7\":12, \"8\":13, \"9\":14, \"10\":15,\n",
    "               \"11\": 16, \"12\":17, \"13\":18, \"14\":19, \"15\":8, \"16\":9, \"17\":10, \"18\":11, \"19\":1}\n",
    "\n",
    "hwo_scda_segments = np.array([4, 5, 6, 7, 2, 3, 12, 13, 14, 15, 16, 17, 18, 19, 8, 9, 10, 11, 1])"
   ]
  },
  {
   "cell_type": "markdown",
   "id": "47277bc6",
   "metadata": {},
   "source": [
    "#### Load coefficients from .mat file"
   ]
  },
  {
   "cell_type": "code",
   "execution_count": null,
   "id": "cb4cab50",
   "metadata": {},
   "outputs": [],
   "source": [
    "hwo_sensitivities = scipy.io.loadmat(os.path.join(data_path, 'HWO_sens_old.mat'))\n",
    "hwo_table = hwo_sensitivities['HWO_sens']\n",
    "first_element = hwo_table[0,0]\n",
    "data_list = first_element.tolist()  # tuple of length 4\n",
    "\n",
    "hwo_hexike_coeffs = data_list[0]  # ndarray of shape (11, 19, 6)\n",
    "mask = data_list[1]    # ndarray of shape (256, 256, 19, 6)\n",
    "dopd = data_list[2]    # ndarray of shape (256, 256, 19, 6)\n",
    "units = data_list[3]   # ndarray of shape (1,) where the only element is a string"
   ]
  },
  {
   "cell_type": "markdown",
   "id": "0bb1ad88",
   "metadata": {},
   "source": [
    "### Propagate time-series through 475 nm"
   ]
  },
  {
   "cell_type": "code",
   "execution_count": null,
   "id": "ec3fe41a",
   "metadata": {
    "scrolled": true
   },
   "outputs": [],
   "source": [
    "wvl = 525\n",
    "\n",
    "tel2.sm.flatten()\n",
    "dx_times = []\n",
    "for time in range(0, 401):\n",
    "    dx = time_series[:, time*6] * 1e12 # in units of pm. \n",
    "    dx = np.delete(dx, -1)\n",
    "    dx_times.append(dx)\n",
    "\n",
    "dy_times = []\n",
    "for time in range(0, 401):\n",
    "    dy = time_series[:, time*6 + 1] * 1e12 # in units of pm. \n",
    "    dy = np.delete(dy, -1)\n",
    "    dy_times.append(dy)\n",
    "    \n",
    "dz_times = []\n",
    "for time in range(0, 401):\n",
    "    dz = time_series[:, time*6 + 2] * 1e12 # in units of pm. \n",
    "    dz = np.delete(dz, -1)\n",
    "    dz_times.append(dz) \n",
    "    \n",
    "rdx_times = []\n",
    "for time in range(0, 401):\n",
    "    rdx = time_series[:, time*6 + 3] * 1e12 # in units of pm. \n",
    "    rdx = np.delete(rdx, -1)\n",
    "    rdx_times.append(rdx)\n",
    "    \n",
    "    \n",
    "rdy_times = []\n",
    "for time in range(0, 401):\n",
    "    rdy = time_series[:, time*6 + 4] * 1e12 # in units of pm. \n",
    "    rdy = np.delete(rdy, -1)\n",
    "    rdy_times.append(rdy)\n",
    "    \n",
    "rdz_times = []\n",
    "for time in range(0, 401):\n",
    "    rdz = time_series[:, time*6 + 5] * 1e12 # in units of pm. \n",
    "    rdz = np.delete(rdz, -1)\n",
    "    rdz_times.append(rdz)\n",
    "    \n",
    "\n",
    "contrasts_dof = []\n",
    "for time in range(0, 401):\n",
    "    tel2.sm.flatten()\n",
    "    for hwo_seg in range(0, tel2.nseg):\n",
    "        scda_seg = hwo_to_scda[str(hwo_seg + 1)] - 1\n",
    "        for hexike in range(0, n_zernikes):\n",
    "            dox = tel2_actuators[0][hexike + scda_seg * n_zernikes] * dx_times[time][hwo_seg] * 1e-6\n",
    "            doy = tel2_actuators[1][hexike + scda_seg * n_zernikes] * dy_times[time][hwo_seg] * 1e-6\n",
    "            doz = tel2_actuators[2][hexike + scda_seg * n_zernikes] * dz_times[time][hwo_seg] * 1e-6\n",
    "            rdx = tel2_actuators[3][hexike + scda_seg * n_zernikes] * rdx_times[time][hwo_seg] * 1e-6\n",
    "            rdy = tel2_actuators[4][hexike + scda_seg * n_zernikes] * rdy_times[time][hwo_seg] * 1e-6\n",
    "            rdz = tel2_actuators[5][hexike + scda_seg * n_zernikes] * rdz_times[time][hwo_seg] * 1e-6\n",
    "            tel2.sm.actuators[hexike + scda_seg * n_zernikes] =  dox + doy + doz + rdx + rdy + rdz\n",
    "    \n",
    "\n",
    "    aberrated_psf, ref, intermediates = tel2.calc_psf(ref=True, display_intermediate=False, return_intermediate='intensity',\n",
    "                                                      norm_one_photon=True, wv=wvl*1e-9)\n",
    "    norm = np.max(ref)\n",
    "    normalized_aberrated_psf = aberrated_psf / norm\n",
    "    \n",
    "    aberr_roi = normalized_aberrated_psf * tel2.dh_mask\n",
    "    aber_contrast_floor = np.mean(aberr_roi[np.where(tel2.dh_mask != 0)])\n",
    "    contrasts_dof.append(aber_contrast_floor)\n",
    "    \n",
    "    print(\"contrast_floor:\", aber_contrast_floor)"
   ]
  },
  {
   "cell_type": "code",
   "execution_count": null,
   "id": "c41886b5",
   "metadata": {},
   "outputs": [],
   "source": [
    "np.savetxt(os.path.join(analysis_path, f'contrast_dof_new_openloop_{wvl :.0f}.csv'), contrasts_dof, delimiter=',')"
   ]
  },
  {
   "cell_type": "code",
   "execution_count": null,
   "id": "f6a67f26",
   "metadata": {},
   "outputs": [],
   "source": [
    "contrasts_dof_475 = np.genfromtxt(os.path.join(analysis_path, 'contrast_dof_new_openloop_475.csv'), delimiter=',')\n",
    "contrasts_dof_500 = np.genfromtxt(os.path.join(analysis_path, 'contrast_dof_new_openloop_500.csv'), delimiter=',')\n",
    "contrasts_dof_525 = np.genfromtxt(os.path.join(analysis_path, 'contrast_dof_new_openloop_525.csv'), delimiter=',')\n",
    "\n",
    "broadband_contrast = (contrasts_dof_475 + contrasts_dof_500 + contrasts_dof_525) / 3\n",
    "\n",
    "plt.figure(figsize=(20, 10))\n",
    "\n",
    "times = np.arange(0, 401, 1)\n",
    "\n",
    "plt.plot(times, contrasts_dof_475, marker='s', markersize=4, linewidth=2, label='500 nm')\n",
    "plt.plot(times, contrasts_dof_500, marker='^', markersize=4, linewidth=2, label='475 nm')\n",
    "plt.plot(times, contrasts_dof_525, marker='p', markersize=4, linewidth=2, label='525 nm')\n",
    "\n",
    "plt.plot(times, broadband_contrast,  marker='s', markersize=8, linewidth=2, label='broadband' )\n",
    "\n",
    "\n",
    "#plt.plot(times, contrasts_dof_500 -  broadband_contrast, marker='s', markersize=8, linewidth=2, label='difference')\n",
    "# plt.plot(times, contrasts_dof_500_new - contrasts_dof_500, label=\"subtraction\")\n",
    "\n",
    "plt.axhline(y=4.171337358217274e-11, color='r', linestyle='--', label='contrast_floor')\n",
    "#plt.ylim(4.1e-11, 5.25e-11)\n",
    "plt.ylabel(\"Mean DH Contrast\", fontsize=25)\n",
    "plt.xlabel(\"Time (in s)\", fontsize=25)\n",
    "plt.legend(fontsize=20)\n",
    "plt.xticks(fontsize=20)\n",
    "plt.yticks(fontsize=20)\n",
    "#plt.yscale('log')\n",
    "plt.tight_layout()\n",
    "plt.savefig(os.path.join(analysis_path, 'openloop_broadband_timeseries.png'))"
   ]
  },
  {
   "cell_type": "code",
   "execution_count": null,
   "id": "434e9d08",
   "metadata": {},
   "outputs": [],
   "source": [
    "\n",
    "\n",
    "unaberrated_psf, ref, intermediates = tel2.calc_psf(ref=True, display_intermediate=False, \n",
    "                                  return_intermediate='intensity',\n",
    "                                  norm_one_photon=True, wv=wvl*1e-9)\n",
    "\n",
    "norm = np.max(ref)\n",
    "normalized_unaberrated_psf = unaberrated_psf / norm\n",
    "coron_psf.append(normalized_unaberrated_psf)\n",
    "unaberr_roi = normalized_unaberrated_psf * tel2.dh_mask\n",
    "contrast_floor = np.mean(unaberr_roi[np.where(tel2.dh_mask != 0)])\n",
    "contrast_floors.append(contrast_floor)\n",
    "print(\"contrast_floor:\", contrast_floor, \"central wavelength:\", tel2.wvln)\n",
    "\n",
    "fits.writeto(os.path.join(analysis_path, f'ref_{wvl}.fits'), ref.shaped)\n",
    "\n",
    "fpm_mask = np.zeros(len(intermediates['after_fpm']))\n",
    "\n",
    "for i in range(0, len(intermediates['after_fpm'])):\n",
    "    if intermediates['after_fpm'][i] == 0.0:\n",
    "        fpm_mask[i] = 0\n",
    "    else:\n",
    "        fpm_mask[i] = 1\n",
    "\n",
    "plt.figure(figsize=(12, 5))\n",
    "plt.subplot(1, 2, 1)\n",
    "\n",
    "plt.title(\"After FPM\")\n",
    "plt.xlabel(r\"in $\\lambda_{0}/D$\")\n",
    "hcipy.imshow_field(10**(intermediates['after_fpm']), \n",
    "                   norm=LogNorm(vmin=1e-14, vmax=1e-1),mask = fpm_mask, cmap= 'inferno')\n",
    "plt.tick_params(bottom=True, left=True, labelleft=True, labelbottom=True)\n",
    "plt.colorbar()\n",
    "\n",
    "plt.subplot(1, 2, 2)\n",
    "plt.title(f\"PSF at {wvl} nm \")\n",
    "plt.xlabel(r\"in $\\lambda_{0}/D$\")\n",
    "hcipy.imshow_field((normalized_unaberrated_psf),norm=LogNorm(vmin=1e-14, vmax=1e-1), cmap='inferno')\n",
    "plt.colorbar()\n",
    "plt.tight_layout()\n",
    "\n",
    "#plt.savefig(os.path.join(analysis_path, f'fpm_n_psf_{wvl}.png'))"
   ]
  },
  {
   "cell_type": "code",
   "execution_count": null,
   "id": "014a5162",
   "metadata": {},
   "outputs": [],
   "source": []
  },
  {
   "cell_type": "code",
   "execution_count": null,
   "id": "3e9557d5",
   "metadata": {},
   "outputs": [],
   "source": []
  },
  {
   "cell_type": "markdown",
   "id": "271e2317",
   "metadata": {},
   "source": [
    "### Test to see whether wavelength at all planes remains same. "
   ]
  },
  {
   "cell_type": "code",
   "execution_count": null,
   "id": "a23f84f9",
   "metadata": {},
   "outputs": [],
   "source": [
    "psf, ref, inter = tel2.calc_psf(ref=True, display_intermediate=False, return_intermediate='efield',\n",
    "                                      norm_one_photon=True, wv=600*1e-9)\n",
    "\n",
    "print(inter['active_pupil'].wavelength)\n",
    "print(inter['seg_mirror'].wavelength)\n",
    "print(inter['zernike_mirror'].wavelength)\n",
    "print(inter['dm'].wavelength)\n",
    "print(inter['before_fpm'].wavelength)\n",
    "print(inter['before_lyot'].wavelength)\n",
    "print(inter['after_lyot'].wavelength)"
   ]
  },
  {
   "cell_type": "code",
   "execution_count": null,
   "id": "e2d36b1c",
   "metadata": {},
   "outputs": [],
   "source": []
  },
  {
   "cell_type": "code",
   "execution_count": null,
   "id": "055e3e40",
   "metadata": {},
   "outputs": [],
   "source": [
    "tel2.sampling"
   ]
  },
  {
   "cell_type": "code",
   "execution_count": null,
   "id": "187b6059",
   "metadata": {},
   "outputs": [],
   "source": [
    "tel2.wvln/tel2.diam"
   ]
  },
  {
   "cell_type": "code",
   "execution_count": null,
   "id": "7a80eddc",
   "metadata": {},
   "outputs": [],
   "source": [
    "scaled_coron_psf = []\n",
    "for i in range(0, 3):\n",
    "    copy_psf = coron_psf[i].copy()\n",
    "    copy_psf.grid = copy_psf.grid.scaled(1/(500 * 1e-9 / tel2.diam))\n",
    "    scaled_coron_psf.append(copy_psf)\n"
   ]
  },
  {
   "cell_type": "code",
   "execution_count": null,
   "id": "0dc89a20",
   "metadata": {},
   "outputs": [],
   "source": [
    "copy_psf = normalized_unaberrated_psf.copy()\n",
    "copy_psf.grid = copy_psf.grid.scaled(1/(500 * 1e-9 / tel2.diam))\n",
    "\n",
    "hcipy.imshow_field(np.log10(copy_psf), cmap='inferno')\n",
    "\n",
    "hcipy.write_fits(copy_psf, os.path.join(analysis_path, f'int_coron_{tel2.wvln *1e9 :.0f}.fits'))"
   ]
  },
  {
   "cell_type": "code",
   "execution_count": null,
   "id": "0b75184b",
   "metadata": {},
   "outputs": [],
   "source": [
    "# copy_psf = normalized_unaberrated_psf.copy()\n",
    "# copy_psf.grid = copy_psf.grid.scaled(1/(700 * 1e-9 / tel2.diam))\n",
    "\n",
    "# plt.figure(figsize = (12, 5))\n",
    "# r1, profile1, _, _ = hcipy.radial_profile(copy_psf, 0.15, statistic = 'mean')\n",
    "# plt.plot(r1, np.log10(profile1))\n",
    "# plt.show()"
   ]
  },
  {
   "cell_type": "code",
   "execution_count": null,
   "id": "58702a9f",
   "metadata": {},
   "outputs": [],
   "source": []
  },
  {
   "cell_type": "code",
   "execution_count": null,
   "id": "96cfc82c",
   "metadata": {},
   "outputs": [],
   "source": []
  },
  {
   "cell_type": "code",
   "execution_count": null,
   "id": "cd6c4f60",
   "metadata": {},
   "outputs": [],
   "source": []
  }
 ],
 "metadata": {
  "kernelspec": {
   "display_name": "Python 3 (ipykernel)",
   "language": "python",
   "name": "python3"
  },
  "language_info": {
   "codemirror_mode": {
    "name": "ipython",
    "version": 3
   },
   "file_extension": ".py",
   "mimetype": "text/x-python",
   "name": "python",
   "nbconvert_exporter": "python",
   "pygments_lexer": "ipython3",
   "version": "3.10.8"
  }
 },
 "nbformat": 4,
 "nbformat_minor": 5
}
