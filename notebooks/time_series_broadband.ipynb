{
 "cells": [
  {
   "cell_type": "code",
   "execution_count": null,
   "id": "4a73de7d",
   "metadata": {},
   "outputs": [],
   "source": [
    "import numpy as np\n",
    "import os\n",
    "import matplotlib.pyplot as plt\n",
    "\n",
    "from astropy.io import fits\n",
    "from matplotlib.colors import LogNorm, TwoSlopeNorm\n",
    "import numpy as np\n",
    "import scipy.io\n",
    "import hcipy\n",
    "\n",
    "import pastis.util as util\n",
    "from pastis.config import CONFIG_PASTIS\n",
    "from pastis.simulators.luvoir_imaging import LuvoirA_APLC\n",
    "from pastis.simulators.scda_telescopes import HexRingAPLC\n",
    "\n",
    "os.chdir('../ULTRA')\n",
    "from config import CONFIG_ULTRA"
   ]
  },
  {
   "cell_type": "code",
   "execution_count": null,
   "id": "64a10856",
   "metadata": {},
   "outputs": [],
   "source": [
    "data_path = CONFIG_ULTRA.get('local_path', 'local_data_path')\n",
    "analysis_path = CONFIG_ULTRA.get('local_path', 'local_analysis_path')\n",
    "\n",
    "input_misalignments = np.genfromtxt(os.path.join(data_path,'INPUT_MISALIGNMENTS.txt'),  delimiter=';')\n",
    "output_misalignments = np.genfromtxt(os.path.join(data_path,'RESIDUAL_MISALIGNMENTS.txt'),  delimiter=';')"
   ]
  },
  {
   "cell_type": "code",
   "execution_count": null,
   "id": "a3a69110",
   "metadata": {},
   "outputs": [],
   "source": [
    "optics_dir = os.path.join(util.find_repo_location(), 'data', 'SCDA')\n",
    "NUM_RINGS = 2\n",
    "sampling = 4\n",
    "\n",
    "tel2 = HexRingAPLC(optics_dir, NUM_RINGS, sampling)\n",
    "\n",
    "unaberrated_psf, ref, intermediates = tel2.calc_psf(ref=True, display_intermediate=True, \n",
    "                                  return_intermediate='intensity',\n",
    "                                  norm_one_photon=True)\n",
    "\n",
    "norm = np.max(ref)\n",
    "normalized_unaberrated_psf = unaberrated_psf / norm\n",
    "\n",
    "unaberr_roi = normalized_unaberrated_psf * tel2.dh_mask\n",
    "contrast_floor = np.mean(unaberr_roi[np.where(tel2.dh_mask != 0)])\n",
    "print(\"contrast_floor:\", contrast_floor)"
   ]
  },
  {
   "cell_type": "code",
   "execution_count": null,
   "id": "0b75184b",
   "metadata": {},
   "outputs": [],
   "source": [
    "copy_psf = normalized_unaberrated_psf.copy()\n",
    "copy_psf.grid = copy_psf.grid.scaled((500 * 1e-9 / tel2.diam))\n",
    "\n",
    "plt.figure(figsize = (12, 5))\n",
    "r1, profile1, _, _ = hcipy.radial_profile(copy_psf, 0.15, statistic = 'mean')\n",
    "plt.plot(r1, np.log10(profile1))\n",
    "plt.show()"
   ]
  }
 ],
 "metadata": {
  "kernelspec": {
   "display_name": "Python 3 (ipykernel)",
   "language": "python",
   "name": "python3"
  },
  "language_info": {
   "codemirror_mode": {
    "name": "ipython",
    "version": 3
   },
   "file_extension": ".py",
   "mimetype": "text/x-python",
   "name": "python",
   "nbconvert_exporter": "python",
   "pygments_lexer": "ipython3",
   "version": "3.10.8"
  }
 },
 "nbformat": 4,
 "nbformat_minor": 5
}
